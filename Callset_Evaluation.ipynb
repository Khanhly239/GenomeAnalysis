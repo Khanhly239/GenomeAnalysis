{
  "nbformat": 4,
  "nbformat_minor": 0,
  "metadata": {
    "colab": {
      "provenance": [],
      "gpuType": "V28"
    },
    "kernelspec": {
      "name": "python3",
      "display_name": "Python 3"
    },
    "language_info": {
      "name": "python"
    },
    "accelerator": "TPU"
  },
  "cells": [
    {
      "cell_type": "code",
      "execution_count": null,
      "metadata": {
        "colab": {
          "base_uri": "https://localhost:8080/"
        },
        "id": "e96zxjOR7T1g",
        "outputId": "45c08e32-a9b7-4207-db9b-8f274a4b9a30"
      },
      "outputs": [
        {
          "output_type": "stream",
          "name": "stdout",
          "text": [
            "Drive already mounted at /content/drive; to attempt to forcibly remount, call drive.mount(\"/content/drive\", force_remount=True).\n"
          ]
        }
      ],
      "source": [
        "from google.colab import drive\n",
        "drive.mount('/content/drive')\n",
        "import os\n",
        "os.environ['DATA'] = \"/content/drive/MyDrive/Inforbiomatic/data\"\n",
        "os.environ['TOOLS'] = \"/content/drive/MyDrive/Inforbiomatic/tools\""
      ]
    },
    {
      "cell_type": "code",
      "source": [
        "!sudo apt-get install openjdk-17-jdk"
      ],
      "metadata": {
        "colab": {
          "base_uri": "https://localhost:8080/"
        },
        "collapsed": true,
        "id": "OTmQnQ7c_64I",
        "outputId": "0de299a1-ef37-4383-e0bf-8326c709f643"
      },
      "execution_count": null,
      "outputs": [
        {
          "output_type": "stream",
          "name": "stdout",
          "text": [
            "Reading package lists... Done\n",
            "Building dependency tree... Done\n",
            "Reading state information... Done\n",
            "The following additional packages will be installed:\n",
            "  fonts-dejavu-core fonts-dejavu-extra libatk-wrapper-java\n",
            "  libatk-wrapper-java-jni libfontenc1 libice-dev libsm-dev libxkbfile1\n",
            "  libxt-dev libxtst6 libxxf86dga1 openjdk-17-jdk-headless openjdk-17-jre\n",
            "  openjdk-17-jre-headless x11-utils\n",
            "Suggested packages:\n",
            "  libice-doc libsm-doc libxt-doc openjdk-17-demo openjdk-17-source visualvm\n",
            "  libnss-mdns fonts-ipafont-gothic fonts-ipafont-mincho fonts-wqy-microhei\n",
            "  | fonts-wqy-zenhei fonts-indic mesa-utils\n",
            "The following NEW packages will be installed:\n",
            "  fonts-dejavu-core fonts-dejavu-extra libatk-wrapper-java\n",
            "  libatk-wrapper-java-jni libfontenc1 libice-dev libsm-dev libxkbfile1\n",
            "  libxt-dev libxtst6 libxxf86dga1 openjdk-17-jdk openjdk-17-jdk-headless\n",
            "  openjdk-17-jre openjdk-17-jre-headless x11-utils\n",
            "0 upgraded, 16 newly installed, 0 to remove and 49 not upgraded.\n",
            "Need to get 126 MB of archives.\n",
            "After this operation, 289 MB of additional disk space will be used.\n",
            "Get:1 http://archive.ubuntu.com/ubuntu jammy/main amd64 fonts-dejavu-core all 2.37-2build1 [1,041 kB]\n",
            "Get:2 http://archive.ubuntu.com/ubuntu jammy/main amd64 fonts-dejavu-extra all 2.37-2build1 [2,041 kB]\n",
            "Get:3 http://archive.ubuntu.com/ubuntu jammy/main amd64 libfontenc1 amd64 1:1.1.4-1build3 [14.7 kB]\n",
            "Get:4 http://archive.ubuntu.com/ubuntu jammy/main amd64 libxkbfile1 amd64 1:1.1.0-1build3 [71.8 kB]\n",
            "Get:5 http://archive.ubuntu.com/ubuntu jammy/main amd64 libxtst6 amd64 2:1.2.3-1build4 [13.4 kB]\n",
            "Get:6 http://archive.ubuntu.com/ubuntu jammy/main amd64 libxxf86dga1 amd64 2:1.1.5-0ubuntu3 [12.6 kB]\n",
            "Get:7 http://archive.ubuntu.com/ubuntu jammy/main amd64 x11-utils amd64 7.7+5build2 [206 kB]\n",
            "Get:8 http://archive.ubuntu.com/ubuntu jammy/main amd64 libatk-wrapper-java all 0.38.0-5build1 [53.1 kB]\n",
            "Get:9 http://archive.ubuntu.com/ubuntu jammy/main amd64 libatk-wrapper-java-jni amd64 0.38.0-5build1 [49.0 kB]\n",
            "Get:10 http://archive.ubuntu.com/ubuntu jammy/main amd64 libice-dev amd64 2:1.0.10-1build2 [51.4 kB]\n",
            "Get:11 http://archive.ubuntu.com/ubuntu jammy/main amd64 libsm-dev amd64 2:1.2.3-1build2 [18.1 kB]\n",
            "Get:12 http://archive.ubuntu.com/ubuntu jammy/main amd64 libxt-dev amd64 1:1.2.1-1 [396 kB]\n",
            "Get:13 http://archive.ubuntu.com/ubuntu jammy-updates/universe amd64 openjdk-17-jre-headless amd64 17.0.13+11-2ubuntu1~22.04 [48.4 MB]\n",
            "Get:14 http://archive.ubuntu.com/ubuntu jammy-updates/universe amd64 openjdk-17-jre amd64 17.0.13+11-2ubuntu1~22.04 [234 kB]\n",
            "Get:15 http://archive.ubuntu.com/ubuntu jammy-updates/universe amd64 openjdk-17-jdk-headless amd64 17.0.13+11-2ubuntu1~22.04 [71.4 MB]\n",
            "Get:16 http://archive.ubuntu.com/ubuntu jammy-updates/universe amd64 openjdk-17-jdk amd64 17.0.13+11-2ubuntu1~22.04 [2,366 kB]\n",
            "Fetched 126 MB in 9s (14.5 MB/s)\n",
            "debconf: unable to initialize frontend: Dialog\n",
            "debconf: (No usable dialog-like program is installed, so the dialog based frontend cannot be used. at /usr/share/perl5/Debconf/FrontEnd/Dialog.pm line 78, <> line 16.)\n",
            "debconf: falling back to frontend: Readline\n",
            "debconf: unable to initialize frontend: Readline\n",
            "debconf: (This frontend requires a controlling tty.)\n",
            "debconf: falling back to frontend: Teletype\n",
            "dpkg-preconfigure: unable to re-open stdin: \n",
            "Selecting previously unselected package fonts-dejavu-core.\n",
            "(Reading database ... 123632 files and directories currently installed.)\n",
            "Preparing to unpack .../00-fonts-dejavu-core_2.37-2build1_all.deb ...\n",
            "Unpacking fonts-dejavu-core (2.37-2build1) ...\n",
            "Selecting previously unselected package fonts-dejavu-extra.\n",
            "Preparing to unpack .../01-fonts-dejavu-extra_2.37-2build1_all.deb ...\n",
            "Unpacking fonts-dejavu-extra (2.37-2build1) ...\n",
            "Selecting previously unselected package libfontenc1:amd64.\n",
            "Preparing to unpack .../02-libfontenc1_1%3a1.1.4-1build3_amd64.deb ...\n",
            "Unpacking libfontenc1:amd64 (1:1.1.4-1build3) ...\n",
            "Selecting previously unselected package libxkbfile1:amd64.\n",
            "Preparing to unpack .../03-libxkbfile1_1%3a1.1.0-1build3_amd64.deb ...\n",
            "Unpacking libxkbfile1:amd64 (1:1.1.0-1build3) ...\n",
            "Selecting previously unselected package libxtst6:amd64.\n",
            "Preparing to unpack .../04-libxtst6_2%3a1.2.3-1build4_amd64.deb ...\n",
            "Unpacking libxtst6:amd64 (2:1.2.3-1build4) ...\n",
            "Selecting previously unselected package libxxf86dga1:amd64.\n",
            "Preparing to unpack .../05-libxxf86dga1_2%3a1.1.5-0ubuntu3_amd64.deb ...\n",
            "Unpacking libxxf86dga1:amd64 (2:1.1.5-0ubuntu3) ...\n",
            "Selecting previously unselected package x11-utils.\n",
            "Preparing to unpack .../06-x11-utils_7.7+5build2_amd64.deb ...\n",
            "Unpacking x11-utils (7.7+5build2) ...\n",
            "Selecting previously unselected package libatk-wrapper-java.\n",
            "Preparing to unpack .../07-libatk-wrapper-java_0.38.0-5build1_all.deb ...\n",
            "Unpacking libatk-wrapper-java (0.38.0-5build1) ...\n",
            "Selecting previously unselected package libatk-wrapper-java-jni:amd64.\n",
            "Preparing to unpack .../08-libatk-wrapper-java-jni_0.38.0-5build1_amd64.deb ...\n",
            "Unpacking libatk-wrapper-java-jni:amd64 (0.38.0-5build1) ...\n",
            "Selecting previously unselected package libice-dev:amd64.\n",
            "Preparing to unpack .../09-libice-dev_2%3a1.0.10-1build2_amd64.deb ...\n",
            "Unpacking libice-dev:amd64 (2:1.0.10-1build2) ...\n",
            "Selecting previously unselected package libsm-dev:amd64.\n",
            "Preparing to unpack .../10-libsm-dev_2%3a1.2.3-1build2_amd64.deb ...\n",
            "Unpacking libsm-dev:amd64 (2:1.2.3-1build2) ...\n",
            "Selecting previously unselected package libxt-dev:amd64.\n",
            "Preparing to unpack .../11-libxt-dev_1%3a1.2.1-1_amd64.deb ...\n",
            "Unpacking libxt-dev:amd64 (1:1.2.1-1) ...\n",
            "Selecting previously unselected package openjdk-17-jre-headless:amd64.\n",
            "Preparing to unpack .../12-openjdk-17-jre-headless_17.0.13+11-2ubuntu1~22.04_amd64.deb ...\n",
            "Unpacking openjdk-17-jre-headless:amd64 (17.0.13+11-2ubuntu1~22.04) ...\n",
            "Selecting previously unselected package openjdk-17-jre:amd64.\n",
            "Preparing to unpack .../13-openjdk-17-jre_17.0.13+11-2ubuntu1~22.04_amd64.deb ...\n",
            "Unpacking openjdk-17-jre:amd64 (17.0.13+11-2ubuntu1~22.04) ...\n",
            "Selecting previously unselected package openjdk-17-jdk-headless:amd64.\n",
            "Preparing to unpack .../14-openjdk-17-jdk-headless_17.0.13+11-2ubuntu1~22.04_amd64.deb ...\n",
            "Unpacking openjdk-17-jdk-headless:amd64 (17.0.13+11-2ubuntu1~22.04) ...\n",
            "Selecting previously unselected package openjdk-17-jdk:amd64.\n",
            "Preparing to unpack .../15-openjdk-17-jdk_17.0.13+11-2ubuntu1~22.04_amd64.deb ...\n",
            "Unpacking openjdk-17-jdk:amd64 (17.0.13+11-2ubuntu1~22.04) ...\n",
            "Setting up libice-dev:amd64 (2:1.0.10-1build2) ...\n",
            "Setting up libsm-dev:amd64 (2:1.2.3-1build2) ...\n",
            "Setting up libxtst6:amd64 (2:1.2.3-1build4) ...\n",
            "Setting up libxxf86dga1:amd64 (2:1.1.5-0ubuntu3) ...\n",
            "Setting up libfontenc1:amd64 (1:1.1.4-1build3) ...\n",
            "Setting up libxt-dev:amd64 (1:1.2.1-1) ...\n",
            "Setting up fonts-dejavu-core (2.37-2build1) ...\n",
            "Setting up openjdk-17-jre-headless:amd64 (17.0.13+11-2ubuntu1~22.04) ...\n",
            "update-alternatives: using /usr/lib/jvm/java-17-openjdk-amd64/bin/java to provide /usr/bin/java (java) in auto mode\n",
            "update-alternatives: using /usr/lib/jvm/java-17-openjdk-amd64/bin/jpackage to provide /usr/bin/jpackage (jpackage) in auto mode\n",
            "update-alternatives: using /usr/lib/jvm/java-17-openjdk-amd64/bin/keytool to provide /usr/bin/keytool (keytool) in auto mode\n",
            "update-alternatives: using /usr/lib/jvm/java-17-openjdk-amd64/bin/rmiregistry to provide /usr/bin/rmiregistry (rmiregistry) in auto mode\n",
            "update-alternatives: using /usr/lib/jvm/java-17-openjdk-amd64/lib/jexec to provide /usr/bin/jexec (jexec) in auto mode\n",
            "Setting up fonts-dejavu-extra (2.37-2build1) ...\n",
            "Setting up libxkbfile1:amd64 (1:1.1.0-1build3) ...\n",
            "Setting up openjdk-17-jre:amd64 (17.0.13+11-2ubuntu1~22.04) ...\n",
            "Setting up openjdk-17-jdk-headless:amd64 (17.0.13+11-2ubuntu1~22.04) ...\n",
            "update-alternatives: using /usr/lib/jvm/java-17-openjdk-amd64/bin/jar to provide /usr/bin/jar (jar) in auto mode\n",
            "update-alternatives: using /usr/lib/jvm/java-17-openjdk-amd64/bin/jarsigner to provide /usr/bin/jarsigner (jarsigner) in auto mode\n",
            "update-alternatives: using /usr/lib/jvm/java-17-openjdk-amd64/bin/javac to provide /usr/bin/javac (javac) in auto mode\n",
            "update-alternatives: using /usr/lib/jvm/java-17-openjdk-amd64/bin/javadoc to provide /usr/bin/javadoc (javadoc) in auto mode\n",
            "update-alternatives: using /usr/lib/jvm/java-17-openjdk-amd64/bin/javap to provide /usr/bin/javap (javap) in auto mode\n",
            "update-alternatives: using /usr/lib/jvm/java-17-openjdk-amd64/bin/jcmd to provide /usr/bin/jcmd (jcmd) in auto mode\n",
            "update-alternatives: using /usr/lib/jvm/java-17-openjdk-amd64/bin/jdb to provide /usr/bin/jdb (jdb) in auto mode\n",
            "update-alternatives: using /usr/lib/jvm/java-17-openjdk-amd64/bin/jdeprscan to provide /usr/bin/jdeprscan (jdeprscan) in auto mode\n",
            "update-alternatives: using /usr/lib/jvm/java-17-openjdk-amd64/bin/jdeps to provide /usr/bin/jdeps (jdeps) in auto mode\n",
            "update-alternatives: using /usr/lib/jvm/java-17-openjdk-amd64/bin/jfr to provide /usr/bin/jfr (jfr) in auto mode\n",
            "update-alternatives: using /usr/lib/jvm/java-17-openjdk-amd64/bin/jimage to provide /usr/bin/jimage (jimage) in auto mode\n",
            "update-alternatives: using /usr/lib/jvm/java-17-openjdk-amd64/bin/jinfo to provide /usr/bin/jinfo (jinfo) in auto mode\n",
            "update-alternatives: using /usr/lib/jvm/java-17-openjdk-amd64/bin/jlink to provide /usr/bin/jlink (jlink) in auto mode\n",
            "update-alternatives: using /usr/lib/jvm/java-17-openjdk-amd64/bin/jmap to provide /usr/bin/jmap (jmap) in auto mode\n",
            "update-alternatives: using /usr/lib/jvm/java-17-openjdk-amd64/bin/jmod to provide /usr/bin/jmod (jmod) in auto mode\n",
            "update-alternatives: using /usr/lib/jvm/java-17-openjdk-amd64/bin/jps to provide /usr/bin/jps (jps) in auto mode\n",
            "update-alternatives: using /usr/lib/jvm/java-17-openjdk-amd64/bin/jrunscript to provide /usr/bin/jrunscript (jrunscript) in auto mode\n",
            "update-alternatives: using /usr/lib/jvm/java-17-openjdk-amd64/bin/jshell to provide /usr/bin/jshell (jshell) in auto mode\n",
            "update-alternatives: using /usr/lib/jvm/java-17-openjdk-amd64/bin/jstack to provide /usr/bin/jstack (jstack) in auto mode\n",
            "update-alternatives: using /usr/lib/jvm/java-17-openjdk-amd64/bin/jstat to provide /usr/bin/jstat (jstat) in auto mode\n",
            "update-alternatives: using /usr/lib/jvm/java-17-openjdk-amd64/bin/jstatd to provide /usr/bin/jstatd (jstatd) in auto mode\n",
            "update-alternatives: using /usr/lib/jvm/java-17-openjdk-amd64/bin/serialver to provide /usr/bin/serialver (serialver) in auto mode\n",
            "update-alternatives: using /usr/lib/jvm/java-17-openjdk-amd64/bin/jhsdb to provide /usr/bin/jhsdb (jhsdb) in auto mode\n",
            "Setting up x11-utils (7.7+5build2) ...\n",
            "Setting up libatk-wrapper-java (0.38.0-5build1) ...\n",
            "Setting up openjdk-17-jdk:amd64 (17.0.13+11-2ubuntu1~22.04) ...\n",
            "update-alternatives: using /usr/lib/jvm/java-17-openjdk-amd64/bin/jconsole to provide /usr/bin/jconsole (jconsole) in auto mode\n",
            "Setting up libatk-wrapper-java-jni:amd64 (0.38.0-5build1) ...\n",
            "Processing triggers for hicolor-icon-theme (0.17-2) ...\n",
            "Processing triggers for libc-bin (2.35-0ubuntu3.4) ...\n",
            "/sbin/ldconfig.real: /usr/local/lib/libtcm_debug.so.1 is not a symbolic link\n",
            "\n",
            "/sbin/ldconfig.real: /usr/local/lib/libtbbbind_2_5.so.3 is not a symbolic link\n",
            "\n",
            "/sbin/ldconfig.real: /usr/local/lib/libhwloc.so.15 is not a symbolic link\n",
            "\n",
            "/sbin/ldconfig.real: /usr/local/lib/libur_loader.so.0 is not a symbolic link\n",
            "\n",
            "/sbin/ldconfig.real: /usr/local/lib/libtbbmalloc_proxy.so.2 is not a symbolic link\n",
            "\n",
            "/sbin/ldconfig.real: /usr/local/lib/libumf.so.0 is not a symbolic link\n",
            "\n",
            "/sbin/ldconfig.real: /usr/local/lib/libtbbmalloc.so.2 is not a symbolic link\n",
            "\n",
            "/sbin/ldconfig.real: /usr/local/lib/libur_adapter_opencl.so.0 is not a symbolic link\n",
            "\n",
            "/sbin/ldconfig.real: /usr/local/lib/libtbbbind.so.3 is not a symbolic link\n",
            "\n",
            "/sbin/ldconfig.real: /usr/local/lib/libtbb.so.12 is not a symbolic link\n",
            "\n",
            "/sbin/ldconfig.real: /usr/local/lib/libur_adapter_level_zero.so.0 is not a symbolic link\n",
            "\n",
            "/sbin/ldconfig.real: /usr/local/lib/libtbbbind_2_0.so.3 is not a symbolic link\n",
            "\n",
            "/sbin/ldconfig.real: /usr/local/lib/libtcm.so.1 is not a symbolic link\n",
            "\n",
            "Processing triggers for man-db (2.10.2-1) ...\n",
            "Processing triggers for fontconfig (2.13.1-4.2ubuntu5) ...\n"
          ]
        }
      ]
    },
    {
      "cell_type": "code",
      "source": [
        "!wget -O ${DATA}/resources/motherGIAB.vcf.gz https://storage.googleapis.com/gatk-tutorials/workshop_2002/2-germline/resources/motherGIAB.vcf.gz\n",
        "!wget -O ${DATA}/resources/motherGIAB.vcf.gz.tbi https://storage.googleapis.com/gatk-tutorials/workshop_2002/2-germline/resources/motherGIAB.vcf.gz.tbi\n",
        "!wget -O ${DATA}/resources/motherGIABsnps.vcf.gz https://storage.googleapis.com/gatk-tutorials/workshop_2002/2-germline/resources/motherGIABsnps.vcf.gz\n",
        "!wget -O ${DATA}/resources/motherGIABsnps.vcf.gz.tbi https://storage.googleapis.com/gatk-tutorials/workshop_2002/2-germline/resources/motherGIABsnps.vcf.gz.tbi\n",
        "!wget -O ${DATA}/resources/motherHighconf.bed https://storage.googleapis.com/gatk-tutorials/workshop_2002/2-germline/intervals/motherHighconf.bed"
      ],
      "metadata": {
        "colab": {
          "base_uri": "https://localhost:8080/"
        },
        "collapsed": true,
        "id": "lh9FS2Ys8aJW",
        "outputId": "e709fa01-f5b2-432c-e10e-031da10e5572"
      },
      "execution_count": null,
      "outputs": [
        {
          "output_type": "stream",
          "name": "stdout",
          "text": [
            "--2025-01-07 13:49:50--  https://storage.googleapis.com/gatk-tutorials/workshop_2002/2-germline/resources/motherGIAB.vcf.gz\n",
            "Resolving storage.googleapis.com (storage.googleapis.com)... 64.233.187.207, 64.233.188.207, 64.233.189.207, ...\n",
            "Connecting to storage.googleapis.com (storage.googleapis.com)|64.233.187.207|:443... connected.\n",
            "HTTP request sent, awaiting response... 200 OK\n",
            "Length: 2690797 (2.6M) [application/x-gzip]\n",
            "Saving to: ‘/content/drive/MyDrive/Inforbiomatic/data/resources/motherGIAB.vcf.gz’\n",
            "\n",
            "/content/drive/MyDr 100%[===================>]   2.57M  2.55MB/s    in 1.0s    \n",
            "\n",
            "2025-01-07 13:49:52 (2.55 MB/s) - ‘/content/drive/MyDrive/Inforbiomatic/data/resources/motherGIAB.vcf.gz’ saved [2690797/2690797]\n",
            "\n",
            "--2025-01-07 13:49:53--  https://storage.googleapis.com/gatk-tutorials/workshop_2002/2-germline/resources/motherGIAB.vcf.gz.tbi\n",
            "Resolving storage.googleapis.com (storage.googleapis.com)... 64.233.187.207, 64.233.188.207, 64.233.189.207, ...\n",
            "Connecting to storage.googleapis.com (storage.googleapis.com)|64.233.187.207|:443... connected.\n",
            "HTTP request sent, awaiting response... 200 OK\n",
            "Length: 33430 (33K) [application/octet-stream]\n",
            "Saving to: ‘/content/drive/MyDrive/Inforbiomatic/data/resources/motherGIAB.vcf.gz.tbi’\n",
            "\n",
            "/content/drive/MyDr 100%[===================>]  32.65K  --.-KB/s    in 0.02s   \n",
            "\n",
            "2025-01-07 13:49:54 (1.64 MB/s) - ‘/content/drive/MyDrive/Inforbiomatic/data/resources/motherGIAB.vcf.gz.tbi’ saved [33430/33430]\n",
            "\n",
            "--2025-01-07 13:49:55--  https://storage.googleapis.com/gatk-tutorials/workshop_2002/2-germline/resources/motherGIABsnps.vcf.gz\n",
            "Resolving storage.googleapis.com (storage.googleapis.com)... 64.233.187.207, 64.233.188.207, 64.233.189.207, ...\n",
            "Connecting to storage.googleapis.com (storage.googleapis.com)|64.233.187.207|:443... connected.\n",
            "HTTP request sent, awaiting response... 200 OK\n",
            "Length: 2303033 (2.2M) [application/x-gzip]\n",
            "Saving to: ‘/content/drive/MyDrive/Inforbiomatic/data/resources/motherGIABsnps.vcf.gz’\n",
            "\n",
            "/content/drive/MyDr 100%[===================>]   2.20M  2.25MB/s    in 1.0s    \n",
            "\n",
            "2025-01-07 13:49:56 (2.25 MB/s) - ‘/content/drive/MyDrive/Inforbiomatic/data/resources/motherGIABsnps.vcf.gz’ saved [2303033/2303033]\n",
            "\n",
            "--2025-01-07 13:49:57--  https://storage.googleapis.com/gatk-tutorials/workshop_2002/2-germline/resources/motherGIABsnps.vcf.gz.tbi\n",
            "Resolving storage.googleapis.com (storage.googleapis.com)... 64.233.187.207, 64.233.188.207, 64.233.189.207, ...\n",
            "Connecting to storage.googleapis.com (storage.googleapis.com)|64.233.187.207|:443... connected.\n",
            "HTTP request sent, awaiting response... 200 OK\n",
            "Length: 32826 (32K) [application/octet-stream]\n",
            "Saving to: ‘/content/drive/MyDrive/Inforbiomatic/data/resources/motherGIABsnps.vcf.gz.tbi’\n",
            "\n",
            "/content/drive/MyDr 100%[===================>]  32.06K  --.-KB/s    in 0.02s   \n",
            "\n",
            "2025-01-07 13:49:57 (1.58 MB/s) - ‘/content/drive/MyDrive/Inforbiomatic/data/resources/motherGIABsnps.vcf.gz.tbi’ saved [32826/32826]\n",
            "\n",
            "--2025-01-07 13:49:58--  https://storage.googleapis.com/gatk-tutorials/workshop_2002/2-germline/intervals/motherHighconf.bed\n",
            "Resolving storage.googleapis.com (storage.googleapis.com)... 64.233.187.207, 64.233.188.207, 64.233.189.207, ...\n",
            "Connecting to storage.googleapis.com (storage.googleapis.com)|64.233.187.207|:443... connected.\n",
            "HTTP request sent, awaiting response... 200 OK\n",
            "Length: 297345 (290K) [application/octet-stream]\n",
            "Saving to: ‘/content/drive/MyDrive/Inforbiomatic/data/resources/motherHighconf.bed’\n",
            "\n",
            "/content/drive/MyDr 100%[===================>] 290.38K   541KB/s    in 0.5s    \n",
            "\n",
            "2025-01-07 13:49:59 (541 KB/s) - ‘/content/drive/MyDrive/Inforbiomatic/data/resources/motherHighconf.bed’ saved [297345/297345]\n",
            "\n"
          ]
        }
      ]
    },
    {
      "cell_type": "code",
      "source": [
        "!wget -O ${DATA}/resources/illumina_platinum/trio.vcf.gz https://storage.googleapis.com/gatk-tutorials/workshop_2002/2-germline/illumina_platinum/trio.vcf.gz\n",
        "!wget -O ${DATA}/resources/illumina_platinum/trio.vcf.gz.tbi https://storage.googleapis.com/gatk-tutorials/workshop_2002/2-germline/illumina_platinum/trio.vcf.gz.tbi"
      ],
      "metadata": {
        "colab": {
          "base_uri": "https://localhost:8080/"
        },
        "collapsed": true,
        "id": "s15M5u_S9Fwy",
        "outputId": "42b692be-1244-4201-b84f-def27a83dbf4"
      },
      "execution_count": null,
      "outputs": [
        {
          "output_type": "stream",
          "name": "stdout",
          "text": [
            "--2025-01-07 13:50:01--  https://storage.googleapis.com/gatk-tutorials/workshop_2002/2-germline/illumina_platinum/trio.vcf.gz\n",
            "Resolving storage.googleapis.com (storage.googleapis.com)... 64.233.187.207, 64.233.188.207, 64.233.189.207, ...\n",
            "Connecting to storage.googleapis.com (storage.googleapis.com)|64.233.187.207|:443... connected.\n",
            "HTTP request sent, awaiting response... 200 OK\n",
            "Length: 10648125 (10M) [application/x-gzip]\n",
            "Saving to: ‘/content/drive/MyDrive/Inforbiomatic/data/resources/illumina_platinum/trio.vcf.gz’\n",
            "\n",
            "/content/drive/MyDr 100%[===================>]  10.15M  7.63MB/s    in 1.3s    \n",
            "\n",
            "2025-01-07 13:50:03 (7.63 MB/s) - ‘/content/drive/MyDrive/Inforbiomatic/data/resources/illumina_platinum/trio.vcf.gz’ saved [10648125/10648125]\n",
            "\n",
            "--2025-01-07 13:50:04--  https://storage.googleapis.com/gatk-tutorials/workshop_2002/2-germline/illumina_platinum/trio.vcf.gz.tbi\n",
            "Resolving storage.googleapis.com (storage.googleapis.com)... 64.233.187.207, 64.233.188.207, 64.233.189.207, ...\n",
            "Connecting to storage.googleapis.com (storage.googleapis.com)|64.233.187.207|:443... connected.\n",
            "HTTP request sent, awaiting response... 200 OK\n",
            "Length: 35714 (35K) [application/octet-stream]\n",
            "Saving to: ‘/content/drive/MyDrive/Inforbiomatic/data/resources/illumina_platinum/trio.vcf.gz.tbi’\n",
            "\n",
            "/content/drive/MyDr 100%[===================>]  34.88K  --.-KB/s    in 0.02s   \n",
            "\n",
            "2025-01-07 13:50:04 (1.72 MB/s) - ‘/content/drive/MyDrive/Inforbiomatic/data/resources/illumina_platinum/trio.vcf.gz.tbi’ saved [35714/35714]\n",
            "\n"
          ]
        }
      ]
    },
    {
      "cell_type": "code",
      "source": [
        "!java -jar ${TOOLS}/gatk/gatk-package-4.6.0.0-local.jar SelectVariants \\\n",
        "-V ${DATA}/resources/illumina_platinum/trio.vcf.gz \\\n",
        "-sn NA12878 \\\n",
        "--exclude-non-variants \\\n",
        "--remove-unused-alternates \\\n",
        "-O ${DATA}/callset-evaluation/mother.vcf.gz"
      ],
      "metadata": {
        "colab": {
          "base_uri": "https://localhost:8080/"
        },
        "id": "wVxdMFrT93tv",
        "outputId": "03d8c697-c3c0-4809-93ee-7bdf29e6eb5e",
        "collapsed": true
      },
      "execution_count": null,
      "outputs": [
        {
          "output_type": "stream",
          "name": "stdout",
          "text": [
            "13:50:28.321 INFO  NativeLibraryLoader - Loading libgkl_compression.so from jar:file:/content/drive/MyDrive/Inforbiomatic/tools/gatk/gatk-package-4.6.0.0-local.jar!/com/intel/gkl/native/libgkl_compression.so\n",
            "13:50:29.129 INFO  SelectVariants - ------------------------------------------------------------\n",
            "13:50:29.135 INFO  SelectVariants - The Genome Analysis Toolkit (GATK) v4.6.0.0\n",
            "13:50:29.135 INFO  SelectVariants - For support and documentation go to https://software.broadinstitute.org/gatk/\n",
            "13:50:29.136 INFO  SelectVariants - Executing as root@25e50bfea436 on Linux v6.1.85+ amd64\n",
            "13:50:29.137 INFO  SelectVariants - Java runtime: OpenJDK 64-Bit Server VM v17.0.13+11-Ubuntu-2ubuntu122.04\n",
            "13:50:29.137 INFO  SelectVariants - Start Date/Time: January 7, 2025 at 1:50:28 PM UTC\n",
            "13:50:29.138 INFO  SelectVariants - ------------------------------------------------------------\n",
            "13:50:29.138 INFO  SelectVariants - ------------------------------------------------------------\n",
            "13:50:29.140 INFO  SelectVariants - HTSJDK Version: 4.1.1\n",
            "13:50:29.141 INFO  SelectVariants - Picard Version: 3.2.0\n",
            "13:50:29.141 INFO  SelectVariants - Built for Spark Version: 3.5.0\n",
            "13:50:29.141 INFO  SelectVariants - HTSJDK Defaults.COMPRESSION_LEVEL : 2\n",
            "13:50:29.142 INFO  SelectVariants - HTSJDK Defaults.USE_ASYNC_IO_READ_FOR_SAMTOOLS : false\n",
            "13:50:29.144 INFO  SelectVariants - HTSJDK Defaults.USE_ASYNC_IO_WRITE_FOR_SAMTOOLS : true\n",
            "13:50:29.144 INFO  SelectVariants - HTSJDK Defaults.USE_ASYNC_IO_WRITE_FOR_TRIBBLE : false\n",
            "13:50:29.146 INFO  SelectVariants - Deflater: IntelDeflater\n",
            "13:50:29.146 INFO  SelectVariants - Inflater: IntelInflater\n",
            "13:50:29.146 INFO  SelectVariants - GCS max retries/reopens: 20\n",
            "13:50:29.146 INFO  SelectVariants - Requester pays: disabled\n",
            "13:50:29.147 INFO  SelectVariants - Initializing engine\n",
            "13:50:29.889 INFO  FeatureManager - Using codec VCFCodec to read file file:///content/drive/MyDrive/Inforbiomatic/data/resources/illumina_platinum/trio.vcf.gz\n",
            "13:50:30.512 INFO  SelectVariants - Done initializing engine\n",
            "13:50:30.554 INFO  SelectVariants - Including sample 'NA12878'\n",
            "13:50:32.286 INFO  ProgressMeter - Starting traversal\n",
            "13:50:32.287 INFO  ProgressMeter -        Current Locus  Elapsed Minutes    Variants Processed  Variants/Minute\n",
            "13:50:42.342 INFO  ProgressMeter -          20:29582205              0.2                 74000         441791.0\n",
            "13:50:45.778 INFO  ProgressMeter -          20:62739818              0.2                148509         660529.3\n",
            "13:50:45.778 INFO  ProgressMeter - Traversal complete. Processed 148509 total variants in 0.2 minutes.\n",
            "13:50:46.538 INFO  SelectVariants - Shutting down engine\n",
            "[January 7, 2025 at 1:50:46 PM UTC] org.broadinstitute.hellbender.tools.walkers.variantutils.SelectVariants done. Elapsed time: 0.31 minutes.\n",
            "Runtime.totalMemory()=444596224\n"
          ]
        }
      ]
    },
    {
      "cell_type": "code",
      "source": [
        "!java -jar ${TOOLS}/gatk/gatk-package-4.6.0.0-local.jar SelectVariants \\\n",
        "-V ${DATA}/resources/illumina_platinum/trio.vcf.gz \\\n",
        "-sn NA12878 \\\n",
        "-select-type SNP \\\n",
        "--exclude-non-variants \\\n",
        "--remove-unused-alternates \\\n",
        "-O ${DATA}/callset-evaluation/motherSNP.vcf.gz"
      ],
      "metadata": {
        "id": "O9VuSOQS94nD",
        "colab": {
          "base_uri": "https://localhost:8080/"
        },
        "collapsed": true,
        "outputId": "0aec5911-d1ab-4d40-f9e1-990173d72185"
      },
      "execution_count": null,
      "outputs": [
        {
          "output_type": "stream",
          "name": "stdout",
          "text": [
            "13:50:50.493 INFO  NativeLibraryLoader - Loading libgkl_compression.so from jar:file:/content/drive/MyDrive/Inforbiomatic/tools/gatk/gatk-package-4.6.0.0-local.jar!/com/intel/gkl/native/libgkl_compression.so\n",
            "13:50:50.813 INFO  SelectVariants - ------------------------------------------------------------\n",
            "13:50:50.819 INFO  SelectVariants - The Genome Analysis Toolkit (GATK) v4.6.0.0\n",
            "13:50:50.819 INFO  SelectVariants - For support and documentation go to https://software.broadinstitute.org/gatk/\n",
            "13:50:50.820 INFO  SelectVariants - Executing as root@25e50bfea436 on Linux v6.1.85+ amd64\n",
            "13:50:50.820 INFO  SelectVariants - Java runtime: OpenJDK 64-Bit Server VM v17.0.13+11-Ubuntu-2ubuntu122.04\n",
            "13:50:50.821 INFO  SelectVariants - Start Date/Time: January 7, 2025 at 1:50:50 PM UTC\n",
            "13:50:50.821 INFO  SelectVariants - ------------------------------------------------------------\n",
            "13:50:50.821 INFO  SelectVariants - ------------------------------------------------------------\n",
            "13:50:50.822 INFO  SelectVariants - HTSJDK Version: 4.1.1\n",
            "13:50:50.823 INFO  SelectVariants - Picard Version: 3.2.0\n",
            "13:50:50.823 INFO  SelectVariants - Built for Spark Version: 3.5.0\n",
            "13:50:50.824 INFO  SelectVariants - HTSJDK Defaults.COMPRESSION_LEVEL : 2\n",
            "13:50:50.825 INFO  SelectVariants - HTSJDK Defaults.USE_ASYNC_IO_READ_FOR_SAMTOOLS : false\n",
            "13:50:50.826 INFO  SelectVariants - HTSJDK Defaults.USE_ASYNC_IO_WRITE_FOR_SAMTOOLS : true\n",
            "13:50:50.826 INFO  SelectVariants - HTSJDK Defaults.USE_ASYNC_IO_WRITE_FOR_TRIBBLE : false\n",
            "13:50:50.827 INFO  SelectVariants - Deflater: IntelDeflater\n",
            "13:50:50.827 INFO  SelectVariants - Inflater: IntelInflater\n",
            "13:50:50.828 INFO  SelectVariants - GCS max retries/reopens: 20\n",
            "13:50:50.828 INFO  SelectVariants - Requester pays: disabled\n",
            "13:50:50.829 INFO  SelectVariants - Initializing engine\n",
            "13:50:51.252 INFO  FeatureManager - Using codec VCFCodec to read file file:///content/drive/MyDrive/Inforbiomatic/data/resources/illumina_platinum/trio.vcf.gz\n",
            "13:50:51.464 INFO  SelectVariants - Done initializing engine\n",
            "13:50:51.570 INFO  SelectVariants - Including sample 'NA12878'\n",
            "13:50:51.636 INFO  ProgressMeter - Starting traversal\n",
            "13:50:51.653 INFO  ProgressMeter -        Current Locus  Elapsed Minutes    Variants Processed  Variants/Minute\n",
            "13:51:01.715 INFO  ProgressMeter -          20:45623732              0.2                 87000         519506.4\n",
            "13:51:03.572 INFO  ProgressMeter -          20:62910954              0.2                122091         614706.7\n",
            "13:51:03.572 INFO  ProgressMeter - Traversal complete. Processed 122091 total variants in 0.2 minutes.\n",
            "13:51:03.600 INFO  SelectVariants - Shutting down engine\n",
            "[January 7, 2025 at 1:51:03 PM UTC] org.broadinstitute.hellbender.tools.walkers.variantutils.SelectVariants done. Elapsed time: 0.22 minutes.\n",
            "Runtime.totalMemory()=285212672\n"
          ]
        }
      ]
    },
    {
      "cell_type": "code",
      "source": [
        "!java -jar ${TOOLS}/gatk/gatk-package-4.6.0.0-local.jar Concordance \\\n",
        "-eval ${DATA}/callset-evaluation/motherSNP.vcf.gz \\\n",
        "-truth ${DATA}/resources/motherGIABsnps.vcf.gz \\\n",
        "-L ${DATA}/resources/motherHighconf.bed \\\n",
        "-S ${DATA}/callset-evaluation/motherSNP.Concordance.txt"
      ],
      "metadata": {
        "colab": {
          "base_uri": "https://localhost:8080/"
        },
        "collapsed": true,
        "id": "w0zg64djDFpc",
        "outputId": "87682a15-0abb-4af7-ba3f-369d8746bd44"
      },
      "execution_count": null,
      "outputs": [
        {
          "output_type": "stream",
          "name": "stdout",
          "text": [
            "13:56:01.696 INFO  NativeLibraryLoader - Loading libgkl_compression.so from jar:file:/content/drive/MyDrive/Inforbiomatic/tools/gatk/gatk-package-4.6.0.0-local.jar!/com/intel/gkl/native/libgkl_compression.so\n",
            "13:56:02.092 INFO  Concordance - ------------------------------------------------------------\n",
            "13:56:02.099 INFO  Concordance - The Genome Analysis Toolkit (GATK) v4.6.0.0\n",
            "13:56:02.099 INFO  Concordance - For support and documentation go to https://software.broadinstitute.org/gatk/\n",
            "13:56:02.099 INFO  Concordance - Executing as root@25e50bfea436 on Linux v6.1.85+ amd64\n",
            "13:56:02.100 INFO  Concordance - Java runtime: OpenJDK 64-Bit Server VM v17.0.13+11-Ubuntu-2ubuntu122.04\n",
            "13:56:02.101 INFO  Concordance - Start Date/Time: January 7, 2025 at 1:56:01 PM UTC\n",
            "13:56:02.101 INFO  Concordance - ------------------------------------------------------------\n",
            "13:56:02.101 INFO  Concordance - ------------------------------------------------------------\n",
            "13:56:02.104 INFO  Concordance - HTSJDK Version: 4.1.1\n",
            "13:56:02.105 INFO  Concordance - Picard Version: 3.2.0\n",
            "13:56:02.105 INFO  Concordance - Built for Spark Version: 3.5.0\n",
            "13:56:02.106 INFO  Concordance - HTSJDK Defaults.COMPRESSION_LEVEL : 2\n",
            "13:56:02.106 INFO  Concordance - HTSJDK Defaults.USE_ASYNC_IO_READ_FOR_SAMTOOLS : false\n",
            "13:56:02.107 INFO  Concordance - HTSJDK Defaults.USE_ASYNC_IO_WRITE_FOR_SAMTOOLS : true\n",
            "13:56:02.107 INFO  Concordance - HTSJDK Defaults.USE_ASYNC_IO_WRITE_FOR_TRIBBLE : false\n",
            "13:56:02.108 INFO  Concordance - Deflater: IntelDeflater\n",
            "13:56:02.108 INFO  Concordance - Inflater: IntelInflater\n",
            "13:56:02.109 INFO  Concordance - GCS max retries/reopens: 20\n",
            "13:56:02.109 INFO  Concordance - Requester pays: disabled\n",
            "13:56:02.110 INFO  Concordance - Initializing engine\n",
            "13:56:02.353 INFO  FeatureManager - Using codec VCFCodec to read file file:///content/drive/MyDrive/Inforbiomatic/data/resources/motherGIABsnps.vcf.gz\n",
            "13:56:02.518 INFO  FeatureManager - Using codec BEDCodec to read file file:///content/drive/MyDrive/Inforbiomatic/data/resources/motherHighconf.bed\n",
            "13:56:02.723 INFO  IntervalArgumentCollection - Processing 54667097 bp from intervals\n",
            "13:56:02.784 INFO  FeatureManager - Using codec VCFCodec to read file file:///content/drive/MyDrive/Inforbiomatic/data/callset-evaluation/motherSNP.vcf.gz\n",
            "13:56:02.817 INFO  Concordance - Done initializing engine\n",
            "13:56:02.825 INFO  ProgressMeter - Starting traversal\n",
            "13:56:02.826 INFO  ProgressMeter -        Current Locus  Elapsed Minutes     Records Processed   Records/Minute\n",
            "13:56:08.249 INFO  ProgressMeter -          20:62470580              0.1                 66315         734521.0\n",
            "13:56:08.250 INFO  ProgressMeter - Traversal complete. Processed 66315 total records in 0.1 minutes.\n",
            "13:56:08.269 INFO  Concordance - Shutting down engine\n",
            "[January 7, 2025 at 1:56:08 PM UTC] org.broadinstitute.hellbender.tools.walkers.validation.Concordance done. Elapsed time: 0.11 minutes.\n",
            "Runtime.totalMemory()=882900992\n",
            "Tool returned:\n",
            "SUCCESS\n"
          ]
        }
      ]
    },
    {
      "cell_type": "code",
      "source": [
        "!java -jar ${TOOLS}/gatk/gatk-package-4.6.0.0-local.jar Concordance \\\n",
        "-eval ${DATA}/callset-evaluation/mother.vcf.gz \\\n",
        "-truth ${DATA}/resources/motherGIAB.vcf.gz \\\n",
        "-L ${DATA}/resources/motherHighconf.bed \\\n",
        "-S ${DATA}/callset-evaluation/mother.Concordance.txt"
      ],
      "metadata": {
        "colab": {
          "base_uri": "https://localhost:8080/"
        },
        "collapsed": true,
        "id": "EXTEEBTcDW9Q",
        "outputId": "747f4c1a-78f7-4f49-c733-2f3631e8d745"
      },
      "execution_count": null,
      "outputs": [
        {
          "output_type": "stream",
          "name": "stdout",
          "text": [
            "13:56:57.046 INFO  NativeLibraryLoader - Loading libgkl_compression.so from jar:file:/content/drive/MyDrive/Inforbiomatic/tools/gatk/gatk-package-4.6.0.0-local.jar!/com/intel/gkl/native/libgkl_compression.so\n",
            "13:56:57.367 INFO  Concordance - ------------------------------------------------------------\n",
            "13:56:57.373 INFO  Concordance - The Genome Analysis Toolkit (GATK) v4.6.0.0\n",
            "13:56:57.373 INFO  Concordance - For support and documentation go to https://software.broadinstitute.org/gatk/\n",
            "13:56:57.373 INFO  Concordance - Executing as root@25e50bfea436 on Linux v6.1.85+ amd64\n",
            "13:56:57.373 INFO  Concordance - Java runtime: OpenJDK 64-Bit Server VM v17.0.13+11-Ubuntu-2ubuntu122.04\n",
            "13:56:57.374 INFO  Concordance - Start Date/Time: January 7, 2025 at 1:56:56 PM UTC\n",
            "13:56:57.374 INFO  Concordance - ------------------------------------------------------------\n",
            "13:56:57.375 INFO  Concordance - ------------------------------------------------------------\n",
            "13:56:57.377 INFO  Concordance - HTSJDK Version: 4.1.1\n",
            "13:56:57.381 INFO  Concordance - Picard Version: 3.2.0\n",
            "13:56:57.381 INFO  Concordance - Built for Spark Version: 3.5.0\n",
            "13:56:57.382 INFO  Concordance - HTSJDK Defaults.COMPRESSION_LEVEL : 2\n",
            "13:56:57.382 INFO  Concordance - HTSJDK Defaults.USE_ASYNC_IO_READ_FOR_SAMTOOLS : false\n",
            "13:56:57.382 INFO  Concordance - HTSJDK Defaults.USE_ASYNC_IO_WRITE_FOR_SAMTOOLS : true\n",
            "13:56:57.383 INFO  Concordance - HTSJDK Defaults.USE_ASYNC_IO_WRITE_FOR_TRIBBLE : false\n",
            "13:56:57.384 INFO  Concordance - Deflater: IntelDeflater\n",
            "13:56:57.384 INFO  Concordance - Inflater: IntelInflater\n",
            "13:56:57.385 INFO  Concordance - GCS max retries/reopens: 20\n",
            "13:56:57.385 INFO  Concordance - Requester pays: disabled\n",
            "13:56:57.386 INFO  Concordance - Initializing engine\n",
            "13:56:57.679 INFO  FeatureManager - Using codec VCFCodec to read file file:///content/drive/MyDrive/Inforbiomatic/data/resources/motherGIAB.vcf.gz\n",
            "13:56:57.831 INFO  FeatureManager - Using codec BEDCodec to read file file:///content/drive/MyDrive/Inforbiomatic/data/resources/motherHighconf.bed\n",
            "13:56:57.982 INFO  IntervalArgumentCollection - Processing 54667097 bp from intervals\n",
            "13:56:58.044 INFO  FeatureManager - Using codec VCFCodec to read file file:///content/drive/MyDrive/Inforbiomatic/data/callset-evaluation/mother.vcf.gz\n",
            "13:56:58.073 INFO  Concordance - Done initializing engine\n",
            "13:56:58.081 INFO  ProgressMeter - Starting traversal\n",
            "13:56:58.082 INFO  ProgressMeter -        Current Locus  Elapsed Minutes     Records Processed   Records/Minute\n",
            "13:57:05.111 INFO  ProgressMeter -          20:62436398              0.1                 74439         636956.6\n",
            "13:57:05.112 INFO  ProgressMeter - Traversal complete. Processed 74439 total records in 0.1 minutes.\n",
            "13:57:05.130 INFO  Concordance - Shutting down engine\n",
            "[January 7, 2025 at 1:57:05 PM UTC] org.broadinstitute.hellbender.tools.walkers.validation.Concordance done. Elapsed time: 0.14 minutes.\n",
            "Runtime.totalMemory()=574619648\n",
            "Tool returned:\n",
            "SUCCESS\n"
          ]
        }
      ]
    },
    {
      "cell_type": "code",
      "source": [
        "!cat ${DATA}/callset-evaluation/mother.Concordance.txt"
      ],
      "metadata": {
        "colab": {
          "base_uri": "https://localhost:8080/"
        },
        "id": "FrRaD4hAGb3D",
        "outputId": "0662cd6f-94ba-4206-f802-fd89dfdd5289"
      },
      "execution_count": null,
      "outputs": [
        {
          "output_type": "stream",
          "name": "stdout",
          "text": [
            "type\tTP\tFP\tFN\tRECALL\tPRECISION\n",
            "SNP\t65669\t486\t172\t0.997\t0.993\n",
            "INDEL\t7463\t390\t259\t0.966\t0.95\n"
          ]
        }
      ]
    },
    {
      "cell_type": "code",
      "source": [
        "!java -jar ${TOOLS}/gatk/gatk-package-4.6.0.0-local.jar VariantEval \\\n",
        "-R ${DATA}/ref/Homo_sapiens_assembly19.fasta \\\n",
        "--eval ${DATA}/callset-evaluation/motherSNP.fixedSeqDict.vcf.gz \\\n",
        "--comp ${DATA}/resources/motherGIABsnps.vcf.gz \\\n",
        "-O ${DATA}/callset-evaluation/motherSNP.VariantEval.grp"
      ],
      "metadata": {
        "colab": {
          "base_uri": "https://localhost:8080/"
        },
        "collapsed": true,
        "id": "bg6FOPi-GgHJ",
        "outputId": "1e0bcafc-7dbe-425d-dd60-81b15d304a53"
      },
      "execution_count": null,
      "outputs": [
        {
          "output_type": "stream",
          "name": "stdout",
          "text": [
            "14:13:44.610 INFO  NativeLibraryLoader - Loading libgkl_compression.so from jar:file:/content/drive/MyDrive/Inforbiomatic/tools/gatk/gatk-package-4.6.0.0-local.jar!/com/intel/gkl/native/libgkl_compression.so\n",
            "14:13:44.927 INFO  VariantEval - ------------------------------------------------------------\n",
            "14:13:44.934 INFO  VariantEval - The Genome Analysis Toolkit (GATK) v4.6.0.0\n",
            "14:13:44.935 INFO  VariantEval - For support and documentation go to https://software.broadinstitute.org/gatk/\n",
            "14:13:44.935 INFO  VariantEval - Executing as root@25e50bfea436 on Linux v6.1.85+ amd64\n",
            "14:13:44.935 INFO  VariantEval - Java runtime: OpenJDK 64-Bit Server VM v17.0.13+11-Ubuntu-2ubuntu122.04\n",
            "14:13:44.936 INFO  VariantEval - Start Date/Time: January 7, 2025 at 2:13:44 PM UTC\n",
            "14:13:44.936 INFO  VariantEval - ------------------------------------------------------------\n",
            "14:13:44.937 INFO  VariantEval - ------------------------------------------------------------\n",
            "14:13:44.939 INFO  VariantEval - HTSJDK Version: 4.1.1\n",
            "14:13:44.939 INFO  VariantEval - Picard Version: 3.2.0\n",
            "14:13:44.940 INFO  VariantEval - Built for Spark Version: 3.5.0\n",
            "14:13:44.941 INFO  VariantEval - HTSJDK Defaults.COMPRESSION_LEVEL : 2\n",
            "14:13:44.942 INFO  VariantEval - HTSJDK Defaults.USE_ASYNC_IO_READ_FOR_SAMTOOLS : false\n",
            "14:13:44.942 INFO  VariantEval - HTSJDK Defaults.USE_ASYNC_IO_WRITE_FOR_SAMTOOLS : true\n",
            "14:13:44.942 INFO  VariantEval - HTSJDK Defaults.USE_ASYNC_IO_WRITE_FOR_TRIBBLE : false\n",
            "14:13:44.943 INFO  VariantEval - Deflater: IntelDeflater\n",
            "14:13:44.943 INFO  VariantEval - Inflater: IntelInflater\n",
            "14:13:44.945 INFO  VariantEval - GCS max retries/reopens: 20\n",
            "14:13:44.945 INFO  VariantEval - Requester pays: disabled\n",
            "14:13:44.945 WARN  VariantEval - \n",
            "\n",
            "\u001b[1m\u001b[31m   !!!!!!!!!!!!!!!!!!!!!!!!!!!!!!!!!!!!!!!!!!!!!!!!!!!!!!!!!!!!\n",
            "\n",
            "   Warning: VariantEval is a BETA tool and is not yet ready for use in production\n",
            "\n",
            "   !!!!!!!!!!!!!!!!!!!!!!!!!!!!!!!!!!!!!!!!!!!!!!!!!!!!!!!!!!!!\u001b[0m\n",
            "\n",
            "\n",
            "14:13:44.946 INFO  VariantEval - Initializing engine\n",
            "14:13:46.742 INFO  FeatureManager - Using codec VCFCodec to read file file:///content/drive/MyDrive/Inforbiomatic/data/callset-evaluation/motherSNP.vcf.gz\n",
            "14:13:46.853 INFO  FeatureManager - Using codec VCFCodec to read file file:///content/drive/MyDrive/Inforbiomatic/data/resources/motherGIABsnps.vcf.gz\n",
            "14:13:47.101 INFO  VariantEval - Done initializing engine\n",
            "14:13:49.765 INFO  Reflections - Reflections took 2627 ms to scan 1 urls, producing 9 keys and 31 values \n",
            "14:13:50.007 INFO  Reflections - Reflections took 233 ms to scan 1 urls, producing 7 keys and 42 values \n",
            "14:13:50.035 INFO  VariantEvalEngine - Creating 3 combinatorial stratification states\n",
            "14:13:50.042 INFO  ProgressMeter - Starting traversal\n",
            "14:13:50.043 INFO  ProgressMeter -        Current Locus  Elapsed Minutes    Variants Processed  Variants/Minute\n",
            "14:13:58.498 INFO  ProgressMeter -          20:62888802              0.1                157121        1116180.4\n",
            "14:13:58.499 INFO  ProgressMeter - Traversal complete. Processed 157121 total variants in 0.1 minutes.\n",
            "14:13:58.499 INFO  VariantEval - Finalizing variant report\n",
            "14:13:59.494 INFO  VariantEval - Shutting down engine\n",
            "[January 7, 2025 at 2:13:59 PM UTC] org.broadinstitute.hellbender.tools.walkers.varianteval.VariantEval done. Elapsed time: 0.25 minutes.\n",
            "Runtime.totalMemory()=339738624\n"
          ]
        }
      ]
    },
    {
      "cell_type": "code",
      "source": [
        "!java -jar ${TOOLS}/gatk/gatk-package-4.6.0.0-local.jar VariantEval \\\n",
        "-R ${DATA}/ref/Homo_sapiens_assembly19.fasta \\\n",
        "--eval ${DATA}/callset-evaluation/mother.vcf.gz \\\n",
        "--comp ${DATA}/resources/motherGIAB.vcf.gz \\\n",
        "-O ${DATA}/callset-evaluation/mother.VariantEval.grp"
      ],
      "metadata": {
        "colab": {
          "base_uri": "https://localhost:8080/"
        },
        "collapsed": true,
        "id": "wFI-h_ELG1Lv",
        "outputId": "fe2dbfe8-13aa-414f-a5ce-a69bd4175d3b"
      },
      "execution_count": null,
      "outputs": [
        {
          "output_type": "stream",
          "name": "stdout",
          "text": [
            "14:14:09.731 INFO  NativeLibraryLoader - Loading libgkl_compression.so from jar:file:/content/drive/MyDrive/Inforbiomatic/tools/gatk/gatk-package-4.6.0.0-local.jar!/com/intel/gkl/native/libgkl_compression.so\n",
            "14:14:10.282 INFO  VariantEval - ------------------------------------------------------------\n",
            "14:14:10.289 INFO  VariantEval - The Genome Analysis Toolkit (GATK) v4.6.0.0\n",
            "14:14:10.289 INFO  VariantEval - For support and documentation go to https://software.broadinstitute.org/gatk/\n",
            "14:14:10.289 INFO  VariantEval - Executing as root@25e50bfea436 on Linux v6.1.85+ amd64\n",
            "14:14:10.289 INFO  VariantEval - Java runtime: OpenJDK 64-Bit Server VM v17.0.13+11-Ubuntu-2ubuntu122.04\n",
            "14:14:10.290 INFO  VariantEval - Start Date/Time: January 7, 2025 at 2:14:09 PM UTC\n",
            "14:14:10.290 INFO  VariantEval - ------------------------------------------------------------\n",
            "14:14:10.290 INFO  VariantEval - ------------------------------------------------------------\n",
            "14:14:10.292 INFO  VariantEval - HTSJDK Version: 4.1.1\n",
            "14:14:10.293 INFO  VariantEval - Picard Version: 3.2.0\n",
            "14:14:10.294 INFO  VariantEval - Built for Spark Version: 3.5.0\n",
            "14:14:10.296 INFO  VariantEval - HTSJDK Defaults.COMPRESSION_LEVEL : 2\n",
            "14:14:10.297 INFO  VariantEval - HTSJDK Defaults.USE_ASYNC_IO_READ_FOR_SAMTOOLS : false\n",
            "14:14:10.298 INFO  VariantEval - HTSJDK Defaults.USE_ASYNC_IO_WRITE_FOR_SAMTOOLS : true\n",
            "14:14:10.298 INFO  VariantEval - HTSJDK Defaults.USE_ASYNC_IO_WRITE_FOR_TRIBBLE : false\n",
            "14:14:10.298 INFO  VariantEval - Deflater: IntelDeflater\n",
            "14:14:10.298 INFO  VariantEval - Inflater: IntelInflater\n",
            "14:14:10.300 INFO  VariantEval - GCS max retries/reopens: 20\n",
            "14:14:10.300 INFO  VariantEval - Requester pays: disabled\n",
            "14:14:10.301 WARN  VariantEval - \n",
            "\n",
            "\u001b[1m\u001b[31m   !!!!!!!!!!!!!!!!!!!!!!!!!!!!!!!!!!!!!!!!!!!!!!!!!!!!!!!!!!!!\n",
            "\n",
            "   Warning: VariantEval is a BETA tool and is not yet ready for use in production\n",
            "\n",
            "   !!!!!!!!!!!!!!!!!!!!!!!!!!!!!!!!!!!!!!!!!!!!!!!!!!!!!!!!!!!!\u001b[0m\n",
            "\n",
            "\n",
            "14:14:10.301 INFO  VariantEval - Initializing engine\n",
            "14:14:10.944 INFO  FeatureManager - Using codec VCFCodec to read file file:///content/drive/MyDrive/Inforbiomatic/data/callset-evaluation/mother.vcf.gz\n",
            "14:14:11.153 INFO  FeatureManager - Using codec VCFCodec to read file file:///content/drive/MyDrive/Inforbiomatic/data/resources/motherGIAB.vcf.gz\n",
            "14:14:11.443 INFO  VariantEval - Done initializing engine\n",
            "14:14:11.840 INFO  Reflections - Reflections took 352 ms to scan 1 urls, producing 9 keys and 31 values \n",
            "14:14:12.073 INFO  Reflections - Reflections took 223 ms to scan 1 urls, producing 7 keys and 42 values \n",
            "14:14:12.112 INFO  VariantEvalEngine - Creating 3 combinatorial stratification states\n",
            "14:14:12.124 INFO  ProgressMeter - Starting traversal\n",
            "14:14:12.125 INFO  ProgressMeter -        Current Locus  Elapsed Minutes    Variants Processed  Variants/Minute\n",
            "14:14:20.178 INFO  ProgressMeter -          20:62908382              0.1                184098        1373182.5\n",
            "14:14:20.178 INFO  ProgressMeter - Traversal complete. Processed 184098 total variants in 0.1 minutes.\n",
            "14:14:20.179 INFO  VariantEval - Finalizing variant report\n",
            "14:14:21.098 INFO  VariantEval - Shutting down engine\n",
            "[January 7, 2025 at 2:14:21 PM UTC] org.broadinstitute.hellbender.tools.walkers.varianteval.VariantEval done. Elapsed time: 0.19 minutes.\n",
            "Runtime.totalMemory()=287309824\n"
          ]
        }
      ]
    },
    {
      "cell_type": "code",
      "source": [
        "!cat ${DATA}/callset-evaluation/mother.VariantEval.grp"
      ],
      "metadata": {
        "collapsed": true,
        "colab": {
          "base_uri": "https://localhost:8080/"
        },
        "id": "7Vtmft2bHfn9",
        "outputId": "00b90285-e8ca-4e8d-822c-add2982770bb"
      },
      "execution_count": null,
      "outputs": [
        {
          "output_type": "stream",
          "name": "stdout",
          "text": [
            "#:GATKReport.v1.1:9\n",
            "#:GATKTable:11:3:%s:%s:%s:%s:%s:%d:%d:%d:%.2f:%d:%.2f:;\n",
            "#:GATKTable:CompOverlap:The overlap between eval and comp sites\n",
            "CompOverlap  CompFeatureInput  EvalFeatureInput  JexlExpression  Novelty  nEvalVariants  novelSites  nVariantsAtComp  compRate  nConcordant  concordantRate\n",
            "CompOverlap  comp              eval              none            all             108814       34054            74760     68.70        74688           99.90\n",
            "CompOverlap  comp              eval              none            known                0           0                0      0.00            0            0.00\n",
            "CompOverlap  comp              eval              none            novel           108814       34054            74760     68.70        74688           99.90\n",
            "\n",
            "#:GATKTable:30:3:%s:%s:%s:%s:%s:%d:%d:%d:%d:%.8f:%.8f:%d:%d:%d:%d:%d:%d:%d:%d:%d:%d:%d:%d:%d:%.2e:%.2f:%.2f:%.2e:%.2f:%.2f:;\n",
            "#:GATKTable:CountVariants:Counts different classes of variants in the sample\n",
            "CountVariants  CompFeatureInput  EvalFeatureInput  JexlExpression  Novelty  nProcessedLoci  nCalledLoci  nRefLoci  nVariantLoci  variantRate  variantRatePerBp  nSNPs  nMNPs  nInsertions  nDeletions  nComplex  nSymbolic  nMixed  nNoCalls  nHets  nHomRef  nHomVar  nSingletons  nHomDerived  heterozygosity  heterozygosityPerBp  hetHomRatio  indelRate  indelRatePerBp  insertionDeletionRatio\n",
            "CountVariants  comp              eval              none            all          3101976562       108814         0        108814   0.00003508    28507.00000000  90404      0         8447        8788      1060          0     115         0  75714        0    33100        62845            0        2.44e-05             40969.00         2.29   5.90e-06       169553.00                    0.96\n",
            "CountVariants  comp              eval              none            known        3101976562            0         0             0   0.00000000        0.00000000      0      0            0           0         0          0       0         0      0        0        0            0            0        0.00e+00                 0.00         0.00   0.00e+00            0.00                    0.00\n",
            "CountVariants  comp              eval              none            novel        3101976562       108814         0        108814   0.00003508    28507.00000000  90404      0         8447        8788      1060          0     115         0  75714        0    33100        62845            0        2.44e-05             40969.00         2.29   5.90e-06       169553.00                    0.96\n",
            "\n",
            "#:GATKTable:7:60:%s:%s:%s:%s:%s:%d:%.2f:;\n",
            "#:GATKTable:IndelLengthHistogram:Indel length histogram\n",
            "IndelLengthHistogram  CompFeatureInput  EvalFeatureInput  JexlExpression  Novelty  Length  Freq\n",
            "IndelLengthHistogram  comp              eval              none            all         -10  0.01\n",
            "IndelLengthHistogram  comp              eval              none            all          -9  0.00\n",
            "IndelLengthHistogram  comp              eval              none            all          -8  0.01\n",
            "IndelLengthHistogram  comp              eval              none            all          -7  0.01\n",
            "IndelLengthHistogram  comp              eval              none            all          -6  0.02\n",
            "IndelLengthHistogram  comp              eval              none            all          -5  0.02\n",
            "IndelLengthHistogram  comp              eval              none            all          -4  0.05\n",
            "IndelLengthHistogram  comp              eval              none            all          -3  0.03\n",
            "IndelLengthHistogram  comp              eval              none            all          -2  0.09\n",
            "IndelLengthHistogram  comp              eval              none            all          -1  0.27\n",
            "IndelLengthHistogram  comp              eval              none            all           1  0.27\n",
            "IndelLengthHistogram  comp              eval              none            all           2  0.09\n",
            "IndelLengthHistogram  comp              eval              none            all           3  0.03\n",
            "IndelLengthHistogram  comp              eval              none            all           4  0.05\n",
            "IndelLengthHistogram  comp              eval              none            all           5  0.02\n",
            "IndelLengthHistogram  comp              eval              none            all           6  0.01\n",
            "IndelLengthHistogram  comp              eval              none            all           7  0.01\n",
            "IndelLengthHistogram  comp              eval              none            all           8  0.01\n",
            "IndelLengthHistogram  comp              eval              none            all           9  0.00\n",
            "IndelLengthHistogram  comp              eval              none            all          10  0.01\n",
            "IndelLengthHistogram  comp              eval              none            known       -10  0.00\n",
            "IndelLengthHistogram  comp              eval              none            known        -9  0.00\n",
            "IndelLengthHistogram  comp              eval              none            known        -8  0.00\n",
            "IndelLengthHistogram  comp              eval              none            known        -7  0.00\n",
            "IndelLengthHistogram  comp              eval              none            known        -6  0.00\n",
            "IndelLengthHistogram  comp              eval              none            known        -5  0.00\n",
            "IndelLengthHistogram  comp              eval              none            known        -4  0.00\n",
            "IndelLengthHistogram  comp              eval              none            known        -3  0.00\n",
            "IndelLengthHistogram  comp              eval              none            known        -2  0.00\n",
            "IndelLengthHistogram  comp              eval              none            known        -1  0.00\n",
            "IndelLengthHistogram  comp              eval              none            known         1  0.00\n",
            "IndelLengthHistogram  comp              eval              none            known         2  0.00\n",
            "IndelLengthHistogram  comp              eval              none            known         3  0.00\n",
            "IndelLengthHistogram  comp              eval              none            known         4  0.00\n",
            "IndelLengthHistogram  comp              eval              none            known         5  0.00\n",
            "IndelLengthHistogram  comp              eval              none            known         6  0.00\n",
            "IndelLengthHistogram  comp              eval              none            known         7  0.00\n",
            "IndelLengthHistogram  comp              eval              none            known         8  0.00\n",
            "IndelLengthHistogram  comp              eval              none            known         9  0.00\n",
            "IndelLengthHistogram  comp              eval              none            known        10  0.00\n",
            "IndelLengthHistogram  comp              eval              none            novel       -10  0.01\n",
            "IndelLengthHistogram  comp              eval              none            novel        -9  0.00\n",
            "IndelLengthHistogram  comp              eval              none            novel        -8  0.01\n",
            "IndelLengthHistogram  comp              eval              none            novel        -7  0.01\n",
            "IndelLengthHistogram  comp              eval              none            novel        -6  0.02\n",
            "IndelLengthHistogram  comp              eval              none            novel        -5  0.02\n",
            "IndelLengthHistogram  comp              eval              none            novel        -4  0.05\n",
            "IndelLengthHistogram  comp              eval              none            novel        -3  0.03\n",
            "IndelLengthHistogram  comp              eval              none            novel        -2  0.09\n",
            "IndelLengthHistogram  comp              eval              none            novel        -1  0.27\n",
            "IndelLengthHistogram  comp              eval              none            novel         1  0.27\n",
            "IndelLengthHistogram  comp              eval              none            novel         2  0.09\n",
            "IndelLengthHistogram  comp              eval              none            novel         3  0.03\n",
            "IndelLengthHistogram  comp              eval              none            novel         4  0.05\n",
            "IndelLengthHistogram  comp              eval              none            novel         5  0.02\n",
            "IndelLengthHistogram  comp              eval              none            novel         6  0.01\n",
            "IndelLengthHistogram  comp              eval              none            novel         7  0.01\n",
            "IndelLengthHistogram  comp              eval              none            novel         8  0.01\n",
            "IndelLengthHistogram  comp              eval              none            novel         9  0.00\n",
            "IndelLengthHistogram  comp              eval              none            novel        10  0.01\n",
            "\n",
            "#:GATKTable:30:3:%s:%s:%s:%s:%s:%d:%d:%d:%d:%d:%s:%s:%s:%s:%s:%d:%s:%s:%s:%s:%s:%s:%s:%s:%s:%s:%s:%s:%s:%s:;\n",
            "#:GATKTable:IndelSummary:Evaluation summary for indels\n",
            "IndelSummary  CompFeatureInput  EvalFeatureInput  JexlExpression  Novelty  n_SNPs  n_singleton_SNPs  n_indels  n_singleton_indels  n_indels_matching_gold_standard  gold_standard_matching_rate  n_multiallelic_indel_sites  percent_of_sites_with_more_than_2_alleles  SNP_to_indel_ratio  SNP_to_indel_ratio_for_singletons  n_novel_indels  indel_novelty_rate  n_insertions  n_deletions  insertion_to_deletion_ratio  n_large_deletions  n_large_insertions  insertion_to_deletion_ratio_for_large_indels  n_coding_indels_frameshifting  n_coding_indels_in_frame  frameshift_rate_for_coding_indels  SNP_het_to_hom_ratio  indel_het_to_hom_ratio  ratio_of_1_and_2_to_3_bp_insertions  ratio_of_1_and_2_to_3_bp_deletions\n",
            "IndelSummary  comp              eval              none            all       90433             62845     19355               13814                                0                         0.00                        1060                                       5.79                4.67                               4.55           10968               56.67          9575         9780                         0.98                881                 809                                          0.92                              0                         0                                 NA                  2.28                    2.30                                10.17                               10.35\n",
            "IndelSummary  comp              eval              none            known         0                 0         0                   0                                0                           NA                           0                                         NA                  NA                                 NA               0                  NA             0            0                           NA                  0                   0                                            NA                              0                         0                                 NA                    NA                      NA                                   NA                                  NA\n",
            "IndelSummary  comp              eval              none            novel     90433             62845     19355               13814                                0                         0.00                        1060                                       5.79                4.67                               4.55           10968               56.67          9575         9780                         0.98                881                 809                                          0.92                              0                         0                                 NA                  2.28                    2.30                                10.17                               10.35\n",
            "\n",
            "#:GATKTable:13:3:%s:%s:%s:%s:%s:%.2f:%d:%d:%d:%d:%s:%.2f:%.2f:;\n",
            "#:GATKTable:MetricsCollection:Metrics Collection\n",
            "MetricsCollection  CompFeatureInput  EvalFeatureInput  JexlExpression  Novelty  concordantRate  nSNPs  nSNPloci  nIndels  nIndelLoci  indelRatio  indelRatioLociBased  tiTvRatio\n",
            "MetricsCollection  comp              eval              none            all               99.90  90433     90404    19355       18295        0.98                 0.96       2.07\n",
            "MetricsCollection  comp              eval              none            known              0.00      0         0        0           0          NA                 0.00       0.00\n",
            "MetricsCollection  comp              eval              none            novel             99.90  90433     90404    19355       18295        0.98                 0.96       2.07\n",
            "\n",
            "#:GATKTable:20:3:%s:%s:%s:%s:%s:%d:%d:%d:%.5f:%.3f:%d:%d:%.5f:%.3f:%d:%d:%.2f:%d:%d:%s:;\n",
            "#:GATKTable:MultiallelicSummary:Evaluation summary for multi-allelic variants\n",
            "MultiallelicSummary  CompFeatureInput  EvalFeatureInput  JexlExpression  Novelty  nProcessedLoci  nSNPs  nMultiSNPs  processedMultiSnpRatio  variantMultiSnpRatio  nIndels  nMultiIndels  processedMultiIndelRatio  variantMultiIndelRatio  nTi  nTv  TiTvRatio  knownSNPsPartial  knownSNPsComplete  SNPNoveltyRate\n",
            "MultiallelicSummary  comp              eval              none            all          3101976562  90404          29                 0.00000                 0.000    18295          1060                   0.00000                   0.058   18   40       0.45                 0                 10           65.52\n",
            "MultiallelicSummary  comp              eval              none            known        3101976562      0           0                 0.00000                   NaN        0             0                   0.00000                     NaN    0    0        NaN                 0                  0              NA\n",
            "MultiallelicSummary  comp              eval              none            novel        3101976562  90404          29                 0.00000                 0.000    18295          1060                   0.00000                   0.058   18   40       0.45                 0                 10           65.52\n",
            "\n",
            "#:GATKTable:14:3:%s:%s:%s:%s:%s:%d:%d:%.2f:%d:%d:%.2f:%d:%d:%.2f:;\n",
            "#:GATKTable:TiTvVariantEvaluator:Ti/Tv Variant Evaluator\n",
            "TiTvVariantEvaluator  CompFeatureInput  EvalFeatureInput  JexlExpression  Novelty  nTi    nTv    tiTvRatio  nTiInComp  nTvInComp  TiTvRatioStandard  nTiDerived  nTvDerived  tiTvDerivedRatio\n",
            "TiTvVariantEvaluator  comp              eval              none            all      60911  29464       2.07      46640      20427               2.28           0           0              0.00\n",
            "TiTvVariantEvaluator  comp              eval              none            known        0      0       0.00          0          0               0.00           0           0              0.00\n",
            "TiTvVariantEvaluator  comp              eval              none            novel    60911  29464       2.07      46640      20427               2.28           0           0              0.00\n",
            "\n",
            "#:GATKTable:24:3:%s:%s:%s:%s:%s:%d:%d:%d:%d:%d:%.2f:%.2f:%.2f:%.2f:%d:%d:%d:%d:%d:%d:%d:%d:%d:%d:;\n",
            "#:GATKTable:ValidationReport:Assess site accuracy and sensitivity of callset against follow-up validation assay\n",
            "ValidationReport  CompFeatureInput  EvalFeatureInput  JexlExpression  Novelty  nComp  TP     FP  FN   TN  sensitivity  specificity  PPV     FDR   CompMonoEvalNoCall  CompMonoEvalFiltered  CompMonoEvalMono  CompMonoEvalPoly  CompPolyEvalNoCall  CompPolyEvalFiltered  CompPolyEvalMono  CompPolyEvalPoly  CompFiltered  nDifferentAlleleSites\n",
            "ValidationReport  comp              eval              none            all      75284  74760   0  524   0        99.30       100.00  100.00  0.00                   0                     0                 0                 0                 524                     0                 0             74760             0                      0\n",
            "ValidationReport  comp              eval              none            known        0      0   0    0   0          NaN       100.00     NaN   NaN                   0                     0                 0                 0                   0                     0                 0                 0             0                      0\n",
            "ValidationReport  comp              eval              none            novel    75284  74760   0  524   0        99.30       100.00  100.00  0.00                   0                     0                 0                 0                 524                     0                 0             74760             0                      0\n",
            "\n",
            "#:GATKTable:20:3:%s:%s:%s:%s:%s:%d:%d:%d:%.2f:%s:%d:%.2f:%.1f:%d:%s:%d:%.1f:%d:%s:%d:;\n",
            "#:GATKTable:VariantSummary:1000 Genomes Phase I summary of variants table\n",
            "VariantSummary  CompFeatureInput  EvalFeatureInput  JexlExpression  Novelty  nSamples  nProcessedLoci  nSNPs  TiTvRatio  SNPNoveltyRate  nSNPsPerSample  TiTvRatioPerSample  SNPDPPerSample  nIndels  IndelNoveltyRate  nIndelsPerSample  IndelDPPerSample  nSVs  SVNoveltyRate  nSVsPerSample\n",
            "VariantSummary  comp              eval              none            all             1      3101976562  90404       2.07           26.06           90404                2.07         90404.0    18168             56.53             18168           18167.0   127         100.00            127\n",
            "VariantSummary  comp              eval              none            known           1      3101976562      0       0.00              NA               0                0.00             0.0        0                NA                 0               0.0     0             NA              0\n",
            "VariantSummary  comp              eval              none            novel           1      3101976562  90404       2.07           26.06           90404                2.07         90404.0    18168             56.53             18168           18167.0   127         100.00            127\n",
            "\n"
          ]
        }
      ]
    },
    {
      "cell_type": "markdown",
      "source": [
        "Code chính\n"
      ],
      "metadata": {
        "id": "6lzc1_F5JMW3"
      }
    },
    {
      "cell_type": "code",
      "source": [
        "!java -jar ${TOOLS}/gatk/gatk-package-4.6.0.0-local.jar CollectVariantCallingMetrics \\\n",
        "-I ${DATA}/callset-evaluation/motherSNP.fixedSeqDict.vcf.gz \\\n",
        "-DBSNP ${DATA}/resources/motherGIABsnps.fixedSeqDict.vcf.gz \\\n",
        "-O ${DATA}/callset-evaluation/motherSNP.CollectVariantCallingMetrics"
      ],
      "metadata": {
        "colab": {
          "base_uri": "https://localhost:8080/"
        },
        "id": "lKu1iPhLHp_7",
        "outputId": "cb3556b7-b7e1-49ab-83bd-8be83fa5a173"
      },
      "execution_count": null,
      "outputs": [
        {
          "output_type": "stream",
          "name": "stdout",
          "text": [
            "15:18:32.406 INFO  NativeLibraryLoader - Loading libgkl_compression.so from jar:file:/content/drive/MyDrive/Inforbiomatic/tools/gatk/gatk-package-4.6.0.0-local.jar!/com/intel/gkl/native/libgkl_compression.so\n",
            "[Tue Jan 07 15:18:32 UTC 2025] CollectVariantCallingMetrics --INPUT /content/drive/MyDrive/Inforbiomatic/data/callset-evaluation/motherSNP.fixedSeqDict.vcf.gz --OUTPUT /content/drive/MyDrive/Inforbiomatic/data/callset-evaluation/motherSNP.CollectVariantCallingMetrics --DBSNP /content/drive/MyDrive/Inforbiomatic/data/resources/motherGIABsnps.fixedSeqDict.vcf.gz --GVCF_INPUT false --THREAD_COUNT 1 --VERBOSITY INFO --QUIET false --VALIDATION_STRINGENCY STRICT --COMPRESSION_LEVEL 2 --MAX_RECORDS_IN_RAM 500000 --CREATE_INDEX false --CREATE_MD5_FILE false --help false --version false --showHidden false --USE_JDK_DEFLATER false --USE_JDK_INFLATER false\n",
            "[Tue Jan 07 15:18:32 UTC 2025] Executing as root@25e50bfea436 on Linux 6.1.85+ amd64; OpenJDK 64-Bit Server VM 17.0.13+11-Ubuntu-2ubuntu122.04; Deflater: Intel; Inflater: Intel; Provider GCS is available; Picard version: Version:4.6.0.0\n",
            "INFO\t2025-01-07 15:18:32\tCollectVariantCallingMetrics\tLoading dbSNP file ...\n",
            "INFO\t2025-01-07 15:18:35\tCollectVariantCallingMetrics\tStarting iteration of variants.\n",
            "INFO\t2025-01-07 15:18:35\tCallingMetricAccumulator\tProcessed        10,000 records.  Elapsed time: 00:00:00s.  Time for last 10,000:    0s.  Last read position: 20:6,376,490\n",
            "INFO\t2025-01-07 15:18:36\tCallingMetricAccumulator\tProcessed        20,000 records.  Elapsed time: 00:00:01s.  Time for last 10,000:    0s.  Last read position: 20:13,786,587\n",
            "INFO\t2025-01-07 15:18:36\tCallingMetricAccumulator\tProcessed        30,000 records.  Elapsed time: 00:00:01s.  Time for last 10,000:    0s.  Last read position: 20:20,343,554\n",
            "INFO\t2025-01-07 15:18:36\tCallingMetricAccumulator\tProcessed        40,000 records.  Elapsed time: 00:00:01s.  Time for last 10,000:    0s.  Last read position: 20:26,094,322\n",
            "INFO\t2025-01-07 15:18:37\tCallingMetricAccumulator\tProcessed        50,000 records.  Elapsed time: 00:00:01s.  Time for last 10,000:    0s.  Last read position: 20:29,843,135\n",
            "INFO\t2025-01-07 15:18:37\tCallingMetricAccumulator\tProcessed        60,000 records.  Elapsed time: 00:00:02s.  Time for last 10,000:    0s.  Last read position: 20:41,780,414\n",
            "INFO\t2025-01-07 15:18:37\tCallingMetricAccumulator\tProcessed        70,000 records.  Elapsed time: 00:00:02s.  Time for last 10,000:    0s.  Last read position: 20:49,808,317\n",
            "INFO\t2025-01-07 15:18:37\tCallingMetricAccumulator\tProcessed        80,000 records.  Elapsed time: 00:00:02s.  Time for last 10,000:    0s.  Last read position: 20:56,416,765\n",
            "INFO\t2025-01-07 15:18:38\tCallingMetricAccumulator\tProcessed        90,000 records.  Elapsed time: 00:00:03s.  Time for last 10,000:    0s.  Last read position: 20:62,917,729\n",
            "[Tue Jan 07 15:18:38 UTC 2025] picard.vcf.CollectVariantCallingMetrics done. Elapsed time: 0.10 minutes.\n",
            "Runtime.totalMemory()=281018368\n",
            "Tool returned:\n",
            "0\n"
          ]
        }
      ]
    },
    {
      "cell_type": "code",
      "source": [
        "!java -jar ${TOOLS}/gatk/gatk-package-4.6.0.0-local.jar CollectVariantCallingMetrics \\\n",
        "-I ${DATA}/callset-evaluation/mother.fixedSeqDict.vcf.gz \\\n",
        "-DBSNP ${DATA}/resources/motherGIAB.fixedSeqDict.vcf.gz \\\n",
        "-O ${DATA}/callset-evaluation/mother.CollectVariantCallingMetrics"
      ],
      "metadata": {
        "colab": {
          "base_uri": "https://localhost:8080/"
        },
        "id": "8cXNK6nQH0UY",
        "outputId": "d490ce1e-5ff8-46c5-8d55-9bcf6b71a7f6"
      },
      "execution_count": null,
      "outputs": [
        {
          "output_type": "stream",
          "name": "stdout",
          "text": [
            "15:18:54.538 INFO  NativeLibraryLoader - Loading libgkl_compression.so from jar:file:/content/drive/MyDrive/Inforbiomatic/tools/gatk/gatk-package-4.6.0.0-local.jar!/com/intel/gkl/native/libgkl_compression.so\n",
            "[Tue Jan 07 15:18:54 UTC 2025] CollectVariantCallingMetrics --INPUT /content/drive/MyDrive/Inforbiomatic/data/callset-evaluation/mother.fixedSeqDict.vcf.gz --OUTPUT /content/drive/MyDrive/Inforbiomatic/data/callset-evaluation/mother.CollectVariantCallingMetrics --DBSNP /content/drive/MyDrive/Inforbiomatic/data/resources/motherGIAB.fixedSeqDict.vcf.gz --GVCF_INPUT false --THREAD_COUNT 1 --VERBOSITY INFO --QUIET false --VALIDATION_STRINGENCY STRICT --COMPRESSION_LEVEL 2 --MAX_RECORDS_IN_RAM 500000 --CREATE_INDEX false --CREATE_MD5_FILE false --help false --version false --showHidden false --USE_JDK_DEFLATER false --USE_JDK_INFLATER false\n",
            "[Tue Jan 07 15:18:55 UTC 2025] Executing as root@25e50bfea436 on Linux 6.1.85+ amd64; OpenJDK 64-Bit Server VM 17.0.13+11-Ubuntu-2ubuntu122.04; Deflater: Intel; Inflater: Intel; Provider GCS is available; Picard version: Version:4.6.0.0\n",
            "INFO\t2025-01-07 15:18:55\tCollectVariantCallingMetrics\tLoading dbSNP file ...\n",
            "INFO\t2025-01-07 15:18:57\tCollectVariantCallingMetrics\tStarting iteration of variants.\n",
            "INFO\t2025-01-07 15:18:57\tCallingMetricAccumulator\tProcessed        10,000 records.  Elapsed time: 00:00:00s.  Time for last 10,000:    0s.  Last read position: 20:5,209,217\n",
            "INFO\t2025-01-07 15:18:58\tCallingMetricAccumulator\tProcessed        20,000 records.  Elapsed time: 00:00:01s.  Time for last 10,000:    0s.  Last read position: 20:11,072,615\n",
            "INFO\t2025-01-07 15:18:58\tCallingMetricAccumulator\tProcessed        30,000 records.  Elapsed time: 00:00:01s.  Time for last 10,000:    0s.  Last read position: 20:16,805,708\n",
            "INFO\t2025-01-07 15:18:58\tCallingMetricAccumulator\tProcessed        40,000 records.  Elapsed time: 00:00:01s.  Time for last 10,000:    0s.  Last read position: 20:23,395,608\n",
            "INFO\t2025-01-07 15:18:59\tCallingMetricAccumulator\tProcessed        50,000 records.  Elapsed time: 00:00:01s.  Time for last 10,000:    0s.  Last read position: 20:26,208,974\n",
            "INFO\t2025-01-07 15:18:59\tCallingMetricAccumulator\tProcessed        60,000 records.  Elapsed time: 00:00:02s.  Time for last 10,000:    0s.  Last read position: 20:31,009,040\n",
            "INFO\t2025-01-07 15:18:59\tCallingMetricAccumulator\tProcessed        70,000 records.  Elapsed time: 00:00:02s.  Time for last 10,000:    0s.  Last read position: 20:40,375,184\n",
            "INFO\t2025-01-07 15:18:59\tCallingMetricAccumulator\tProcessed        80,000 records.  Elapsed time: 00:00:02s.  Time for last 10,000:    0s.  Last read position: 20:47,132,261\n",
            "INFO\t2025-01-07 15:19:00\tCallingMetricAccumulator\tProcessed        90,000 records.  Elapsed time: 00:00:02s.  Time for last 10,000:    0s.  Last read position: 20:52,789,743\n",
            "INFO\t2025-01-07 15:19:00\tCallingMetricAccumulator\tProcessed       100,000 records.  Elapsed time: 00:00:03s.  Time for last 10,000:    0s.  Last read position: 20:58,396,931\n",
            "[Tue Jan 07 15:19:00 UTC 2025] picard.vcf.CollectVariantCallingMetrics done. Elapsed time: 0.10 minutes.\n",
            "Runtime.totalMemory()=272629760\n",
            "Tool returned:\n",
            "0\n"
          ]
        }
      ]
    },
    {
      "cell_type": "markdown",
      "source": [
        "fix file mothersnps\n"
      ],
      "metadata": {
        "id": "Ca609HBCJN8S"
      }
    },
    {
      "cell_type": "code",
      "source": [
        "!java -jar ${TOOLS}/gatk/gatk-package-4.6.0.0-local.jar UpdateVCFSequenceDictionary \\\n",
        "-R ${DATA}/ref/Homo_sapiens_assembly19.fasta \\\n",
        "-V ${DATA}/callset-evaluation/motherSNP.vcf.gz \\\n",
        "-O ${DATA}/callset-evaluation/motherSNP.fixedSeqDict.vcf.gz \\\n",
        "--replace true"
      ],
      "metadata": {
        "colab": {
          "base_uri": "https://localhost:8080/"
        },
        "collapsed": true,
        "id": "v6gZyXwEJPad",
        "outputId": "908073fb-94f7-4250-db93-a1df5c93cb5c"
      },
      "execution_count": null,
      "outputs": [
        {
          "output_type": "stream",
          "name": "stdout",
          "text": [
            "14:23:33.353 INFO  NativeLibraryLoader - Loading libgkl_compression.so from jar:file:/content/drive/MyDrive/Inforbiomatic/tools/gatk/gatk-package-4.6.0.0-local.jar!/com/intel/gkl/native/libgkl_compression.so\n",
            "14:23:33.710 INFO  UpdateVCFSequenceDictionary - ------------------------------------------------------------\n",
            "14:23:33.716 INFO  UpdateVCFSequenceDictionary - The Genome Analysis Toolkit (GATK) v4.6.0.0\n",
            "14:23:33.716 INFO  UpdateVCFSequenceDictionary - For support and documentation go to https://software.broadinstitute.org/gatk/\n",
            "14:23:33.717 INFO  UpdateVCFSequenceDictionary - Executing as root@25e50bfea436 on Linux v6.1.85+ amd64\n",
            "14:23:33.717 INFO  UpdateVCFSequenceDictionary - Java runtime: OpenJDK 64-Bit Server VM v17.0.13+11-Ubuntu-2ubuntu122.04\n",
            "14:23:33.717 INFO  UpdateVCFSequenceDictionary - Start Date/Time: January 7, 2025 at 2:23:33 PM UTC\n",
            "14:23:33.717 INFO  UpdateVCFSequenceDictionary - ------------------------------------------------------------\n",
            "14:23:33.717 INFO  UpdateVCFSequenceDictionary - ------------------------------------------------------------\n",
            "14:23:33.719 INFO  UpdateVCFSequenceDictionary - HTSJDK Version: 4.1.1\n",
            "14:23:33.719 INFO  UpdateVCFSequenceDictionary - Picard Version: 3.2.0\n",
            "14:23:33.719 INFO  UpdateVCFSequenceDictionary - Built for Spark Version: 3.5.0\n",
            "14:23:33.720 INFO  UpdateVCFSequenceDictionary - HTSJDK Defaults.COMPRESSION_LEVEL : 2\n",
            "14:23:33.720 INFO  UpdateVCFSequenceDictionary - HTSJDK Defaults.USE_ASYNC_IO_READ_FOR_SAMTOOLS : false\n",
            "14:23:33.720 INFO  UpdateVCFSequenceDictionary - HTSJDK Defaults.USE_ASYNC_IO_WRITE_FOR_SAMTOOLS : true\n",
            "14:23:33.721 INFO  UpdateVCFSequenceDictionary - HTSJDK Defaults.USE_ASYNC_IO_WRITE_FOR_TRIBBLE : false\n",
            "14:23:33.721 INFO  UpdateVCFSequenceDictionary - Deflater: IntelDeflater\n",
            "14:23:33.721 INFO  UpdateVCFSequenceDictionary - Inflater: IntelInflater\n",
            "14:23:33.722 INFO  UpdateVCFSequenceDictionary - GCS max retries/reopens: 20\n",
            "14:23:33.722 INFO  UpdateVCFSequenceDictionary - Requester pays: disabled\n",
            "14:23:33.723 INFO  UpdateVCFSequenceDictionary - Initializing engine\n",
            "14:23:34.179 INFO  FeatureManager - Using codec VCFCodec to read file file:///content/drive/MyDrive/Inforbiomatic/data/callset-evaluation/motherSNP.vcf.gz\n",
            "14:23:34.331 INFO  UpdateVCFSequenceDictionary - Done initializing engine\n",
            "14:23:34.458 INFO  ProgressMeter - Starting traversal\n",
            "14:23:34.461 INFO  ProgressMeter -        Current Locus  Elapsed Minutes    Variants Processed  Variants/Minute\n",
            "14:23:40.362 INFO  ProgressMeter -          20:62917729              0.1                 90044         916945.0\n",
            "14:23:40.363 INFO  ProgressMeter - Traversal complete. Processed 90044 total variants in 0.1 minutes.\n",
            "14:23:40.400 INFO  UpdateVCFSequenceDictionary - Shutting down engine\n",
            "[January 7, 2025 at 2:23:40 PM UTC] org.broadinstitute.hellbender.tools.walkers.variantutils.UpdateVCFSequenceDictionary done. Elapsed time: 0.12 minutes.\n",
            "Runtime.totalMemory()=486539264\n"
          ]
        }
      ]
    },
    {
      "cell_type": "code",
      "source": [
        "!java -jar ${TOOLS}/gatk/gatk-package-4.6.0.0-local.jar UpdateVCFSequenceDictionary \\\n",
        "-R ${DATA}/ref/Homo_sapiens_assembly19.fasta \\\n",
        "-V ${DATA}/resources/motherGIABsnps.vcf.gz \\\n",
        "-O ${DATA}/resources/motherGIABsnps.fixedSeqDict.vcf.gz \\\n",
        "--replace true"
      ],
      "metadata": {
        "colab": {
          "base_uri": "https://localhost:8080/"
        },
        "collapsed": true,
        "id": "O4BKELA-KaIy",
        "outputId": "e6a8b056-29c0-4196-d9b1-1d975e1ebba3"
      },
      "execution_count": null,
      "outputs": [
        {
          "output_type": "stream",
          "name": "stdout",
          "text": [
            "14:27:42.729 INFO  NativeLibraryLoader - Loading libgkl_compression.so from jar:file:/content/drive/MyDrive/Inforbiomatic/tools/gatk/gatk-package-4.6.0.0-local.jar!/com/intel/gkl/native/libgkl_compression.so\n",
            "14:27:43.024 INFO  UpdateVCFSequenceDictionary - ------------------------------------------------------------\n",
            "14:27:43.030 INFO  UpdateVCFSequenceDictionary - The Genome Analysis Toolkit (GATK) v4.6.0.0\n",
            "14:27:43.030 INFO  UpdateVCFSequenceDictionary - For support and documentation go to https://software.broadinstitute.org/gatk/\n",
            "14:27:43.030 INFO  UpdateVCFSequenceDictionary - Executing as root@25e50bfea436 on Linux v6.1.85+ amd64\n",
            "14:27:43.030 INFO  UpdateVCFSequenceDictionary - Java runtime: OpenJDK 64-Bit Server VM v17.0.13+11-Ubuntu-2ubuntu122.04\n",
            "14:27:43.031 INFO  UpdateVCFSequenceDictionary - Start Date/Time: January 7, 2025 at 2:27:42 PM UTC\n",
            "14:27:43.031 INFO  UpdateVCFSequenceDictionary - ------------------------------------------------------------\n",
            "14:27:43.031 INFO  UpdateVCFSequenceDictionary - ------------------------------------------------------------\n",
            "14:27:43.032 INFO  UpdateVCFSequenceDictionary - HTSJDK Version: 4.1.1\n",
            "14:27:43.033 INFO  UpdateVCFSequenceDictionary - Picard Version: 3.2.0\n",
            "14:27:43.033 INFO  UpdateVCFSequenceDictionary - Built for Spark Version: 3.5.0\n",
            "14:27:43.033 INFO  UpdateVCFSequenceDictionary - HTSJDK Defaults.COMPRESSION_LEVEL : 2\n",
            "14:27:43.034 INFO  UpdateVCFSequenceDictionary - HTSJDK Defaults.USE_ASYNC_IO_READ_FOR_SAMTOOLS : false\n",
            "14:27:43.034 INFO  UpdateVCFSequenceDictionary - HTSJDK Defaults.USE_ASYNC_IO_WRITE_FOR_SAMTOOLS : true\n",
            "14:27:43.034 INFO  UpdateVCFSequenceDictionary - HTSJDK Defaults.USE_ASYNC_IO_WRITE_FOR_TRIBBLE : false\n",
            "14:27:43.035 INFO  UpdateVCFSequenceDictionary - Deflater: IntelDeflater\n",
            "14:27:43.035 INFO  UpdateVCFSequenceDictionary - Inflater: IntelInflater\n",
            "14:27:43.035 INFO  UpdateVCFSequenceDictionary - GCS max retries/reopens: 20\n",
            "14:27:43.035 INFO  UpdateVCFSequenceDictionary - Requester pays: disabled\n",
            "14:27:43.036 INFO  UpdateVCFSequenceDictionary - Initializing engine\n",
            "14:27:43.403 INFO  FeatureManager - Using codec VCFCodec to read file file:///content/drive/MyDrive/Inforbiomatic/data/resources/motherGIABsnps.vcf.gz\n",
            "14:27:43.523 INFO  UpdateVCFSequenceDictionary - Done initializing engine\n",
            "14:27:43.627 INFO  ProgressMeter - Starting traversal\n",
            "14:27:43.628 INFO  ProgressMeter -        Current Locus  Elapsed Minutes    Variants Processed  Variants/Minute\n",
            "14:27:47.048 INFO  ProgressMeter -          20:62782521              0.1                 67077        1178167.4\n",
            "14:27:47.049 INFO  ProgressMeter - Traversal complete. Processed 67077 total variants in 0.1 minutes.\n",
            "14:27:47.090 INFO  UpdateVCFSequenceDictionary - Shutting down engine\n",
            "[January 7, 2025 at 2:27:47 PM UTC] org.broadinstitute.hellbender.tools.walkers.variantutils.UpdateVCFSequenceDictionary done. Elapsed time: 0.07 minutes.\n",
            "Runtime.totalMemory()=339738624\n"
          ]
        }
      ]
    },
    {
      "cell_type": "code",
      "source": [
        "#Tính toán concordance\n",
        "!java -jar ${TOOLS}/gatk/gatk-package-4.6.0.0-local.jar GenotypeConcordance \\\n",
        "-CALL_VCF ${DATA}/callset-evaluation/motherSNP.fixedSeqDict.vcf.gz \\\n",
        "-TRUTH_VCF ${DATA}/resources/motherGIABsnps.fixedSeqDict.vcf.gz \\\n",
        "-O ${DATA}/callset-evaluation/motherSNP.GenotypeConcordanc"
      ],
      "metadata": {
        "colab": {
          "base_uri": "https://localhost:8080/"
        },
        "id": "Niz95yQNKgmY",
        "outputId": "a89bb98c-1046-4dda-81a3-4add86fc0397"
      },
      "execution_count": null,
      "outputs": [
        {
          "output_type": "stream",
          "name": "stdout",
          "text": [
            "14:28:17.800 INFO  NativeLibraryLoader - Loading libgkl_compression.so from jar:file:/content/drive/MyDrive/Inforbiomatic/tools/gatk/gatk-package-4.6.0.0-local.jar!/com/intel/gkl/native/libgkl_compression.so\n",
            "[Tue Jan 07 14:28:17 UTC 2025] GenotypeConcordance --TRUTH_VCF /content/drive/MyDrive/Inforbiomatic/data/resources/motherGIABsnps.fixedSeqDict.vcf.gz --CALL_VCF /content/drive/MyDrive/Inforbiomatic/data/callset-evaluation/motherSNP.fixedSeqDict.vcf.gz --OUTPUT /content/drive/MyDrive/Inforbiomatic/data/callset-evaluation/motherSNP.GenotypeConcordanc --OUTPUT_VCF false --INTERSECT_INTERVALS true --MIN_GQ 0 --MIN_DP 0 --OUTPUT_ALL_ROWS false --USE_VCF_INDEX false --MISSING_SITES_HOM_REF false --IGNORE_FILTER_STATUS false --VERBOSITY INFO --QUIET false --VALIDATION_STRINGENCY STRICT --COMPRESSION_LEVEL 2 --MAX_RECORDS_IN_RAM 500000 --CREATE_INDEX false --CREATE_MD5_FILE false --help false --version false --showHidden false --USE_JDK_DEFLATER false --USE_JDK_INFLATER false\n",
            "[Tue Jan 07 14:28:18 UTC 2025] Executing as root@25e50bfea436 on Linux 6.1.85+ amd64; OpenJDK 64-Bit Server VM 17.0.13+11-Ubuntu-2ubuntu122.04; Deflater: Intel; Inflater: Intel; Provider GCS is available; Picard version: Version:4.6.0.0\n",
            "INFO\t2025-01-07 14:28:18\tGenotypeConcordance\tStarting iteration over variants.\n",
            "INFO\t2025-01-07 14:28:19\tGenotypeConcordance\tchecked        10,000 variants.  Elapsed time: 00:00:02s.  Time for last 10,000:    1s.  Last read position: 20:6,349,277\n",
            "INFO\t2025-01-07 14:28:20\tGenotypeConcordance\tchecked        20,000 variants.  Elapsed time: 00:00:02s.  Time for last 10,000:    0s.  Last read position: 20:13,709,407\n",
            "INFO\t2025-01-07 14:28:20\tGenotypeConcordance\tchecked        30,000 variants.  Elapsed time: 00:00:03s.  Time for last 10,000:    0s.  Last read position: 20:20,261,073\n",
            "INFO\t2025-01-07 14:28:21\tGenotypeConcordance\tchecked        40,000 variants.  Elapsed time: 00:00:03s.  Time for last 10,000:    0s.  Last read position: 20:26,086,627\n",
            "INFO\t2025-01-07 14:28:21\tGenotypeConcordance\tchecked        50,000 variants.  Elapsed time: 00:00:03s.  Time for last 10,000:    0s.  Last read position: 20:29,653,436\n",
            "INFO\t2025-01-07 14:28:21\tGenotypeConcordance\tchecked        60,000 variants.  Elapsed time: 00:00:04s.  Time for last 10,000:    0s.  Last read position: 20:41,440,298\n",
            "INFO\t2025-01-07 14:28:22\tGenotypeConcordance\tchecked        70,000 variants.  Elapsed time: 00:00:04s.  Time for last 10,000:    0s.  Last read position: 20:49,680,943\n",
            "INFO\t2025-01-07 14:28:22\tGenotypeConcordance\tchecked        80,000 variants.  Elapsed time: 00:00:05s.  Time for last 10,000:    0s.  Last read position: 20:56,190,634\n",
            "INFO\t2025-01-07 14:28:23\tGenotypeConcordance\tchecked        90,000 variants.  Elapsed time: 00:00:05s.  Time for last 10,000:    0s.  Last read position: 20:62,549,225\n",
            "[Tue Jan 07 14:28:23 UTC 2025] picard.vcf.GenotypeConcordance done. Elapsed time: 0.09 minutes.\n",
            "Runtime.totalMemory()=339738624\n",
            "Tool returned:\n",
            "0\n"
          ]
        }
      ]
    },
    {
      "cell_type": "code",
      "source": [
        "#Xem kết quả\n",
        "!cat ${DATA}/callset-evaluation/motherSNP.GenotypeConcordanc.genotype_concordance_summary_metrics\n",
        "!echo \"--------\"\n",
        "!cat ${DATA}/callset-evaluation/motherSNP.GenotypeConcordanc.genotype_concordance_detail_metrics\n",
        "!echo \"--------\"\n",
        "!cat ${DATA}/callset-evaluation/motherSNP.GenotypeConcordanc.genotype_concordance_contingency_metrics"
      ],
      "metadata": {
        "colab": {
          "base_uri": "https://localhost:8080/"
        },
        "collapsed": true,
        "id": "jQFX2gY1KqkM",
        "outputId": "43d004ff-27da-4df0-c284-e8a4a5445c08"
      },
      "execution_count": null,
      "outputs": [
        {
          "output_type": "stream",
          "name": "stdout",
          "text": [
            "## htsjdk.samtools.metrics.StringHeader\n",
            "# GenotypeConcordance --TRUTH_VCF /content/drive/MyDrive/Inforbiomatic/data/resources/motherGIABsnps.fixedSeqDict.vcf.gz --CALL_VCF /content/drive/MyDrive/Inforbiomatic/data/callset-evaluation/motherSNP.fixedSeqDict.vcf.gz --OUTPUT /content/drive/MyDrive/Inforbiomatic/data/callset-evaluation/motherSNP.GenotypeConcordanc --OUTPUT_VCF false --INTERSECT_INTERVALS true --MIN_GQ 0 --MIN_DP 0 --OUTPUT_ALL_ROWS false --USE_VCF_INDEX false --MISSING_SITES_HOM_REF false --IGNORE_FILTER_STATUS false --VERBOSITY INFO --QUIET false --VALIDATION_STRINGENCY STRICT --COMPRESSION_LEVEL 2 --MAX_RECORDS_IN_RAM 500000 --CREATE_INDEX false --CREATE_MD5_FILE false --help false --version false --showHidden false --USE_JDK_DEFLATER false --USE_JDK_INFLATER false\n",
            "## htsjdk.samtools.metrics.StringHeader\n",
            "# Started on: Tue Jan 07 14:28:17 UTC 2025\n",
            "\n",
            "## METRICS CLASS\tpicard.vcf.GenotypeConcordanceSummaryMetrics\n",
            "VARIANT_TYPE\tTRUTH_SAMPLE\tCALL_SAMPLE\tHET_SENSITIVITY\tHET_PPV\tHET_SPECIFICITY\tHOMVAR_SENSITIVITY\tHOMVAR_PPV\tHOMVAR_SPECIFICITY\tVAR_SENSITIVITY\tVAR_PPV\tVAR_SPECIFICITY\tGENOTYPE_CONCORDANCE\tNON_REF_GENOTYPE_CONCORDANCE\n",
            "SNP\tINTEGRATION\tNA12878\t0.995366\t0.672877\t?\t0.994717\t0.897619\t?\t0.995126\t0.741429\t0.729324\t0.999805\t0.999805\n",
            "INDEL\tINTEGRATION\tNA12878\t?\t?\t?\t?\t?\t?\t?\t?\t?\t?\t?\n",
            "\n",
            "\n",
            "--------\n",
            "## htsjdk.samtools.metrics.StringHeader\n",
            "# GenotypeConcordance --TRUTH_VCF /content/drive/MyDrive/Inforbiomatic/data/resources/motherGIABsnps.fixedSeqDict.vcf.gz --CALL_VCF /content/drive/MyDrive/Inforbiomatic/data/callset-evaluation/motherSNP.fixedSeqDict.vcf.gz --OUTPUT /content/drive/MyDrive/Inforbiomatic/data/callset-evaluation/motherSNP.GenotypeConcordanc --OUTPUT_VCF false --INTERSECT_INTERVALS true --MIN_GQ 0 --MIN_DP 0 --OUTPUT_ALL_ROWS false --USE_VCF_INDEX false --MISSING_SITES_HOM_REF false --IGNORE_FILTER_STATUS false --VERBOSITY INFO --QUIET false --VALIDATION_STRINGENCY STRICT --COMPRESSION_LEVEL 2 --MAX_RECORDS_IN_RAM 500000 --CREATE_INDEX false --CREATE_MD5_FILE false --help false --version false --showHidden false --USE_JDK_DEFLATER false --USE_JDK_INFLATER false\n",
            "## htsjdk.samtools.metrics.StringHeader\n",
            "# Started on: Tue Jan 07 14:28:17 UTC 2025\n",
            "\n",
            "## METRICS CLASS\tpicard.vcf.GenotypeConcordanceDetailMetrics\n",
            "VARIANT_TYPE\tTRUTH_SAMPLE\tCALL_SAMPLE\tTRUTH_STATE\tCALL_STATE\tCOUNT\tCONTINGENCY_VALUES\n",
            "SNP\tINTEGRATION\tNA12878\tMISSING\tHET_REF_VAR1\t20453\tFP,TN\n",
            "SNP\tINTEGRATION\tNA12878\tMISSING\tHET_VAR1_VAR2\t18\tFP\n",
            "SNP\tINTEGRATION\tNA12878\tMISSING\tHOM_VAR1\t2811\tFP\n",
            "SNP\tINTEGRATION\tNA12878\tHET_REF_VAR1\tMISSING\t196\tTN,FN\n",
            "SNP\tINTEGRATION\tNA12878\tHET_REF_VAR1\tHET_REF_VAR1\t42086\tTP,TN\n",
            "SNP\tINTEGRATION\tNA12878\tHET_REF_VAR1\tHOM_VAR1\t1\tTP,FP\n",
            "SNP\tINTEGRATION\tNA12878\tHET_VAR1_VAR2\tHET_VAR1_VAR2\t10\tTP\n",
            "SNP\tINTEGRATION\tNA12878\tHOM_VAR1\tMISSING\t119\tFN\n",
            "SNP\tINTEGRATION\tNA12878\tHOM_VAR1\tHET_REF_VAR1\t12\tTP,FN\n",
            "SNP\tINTEGRATION\tNA12878\tHOM_VAR1\tHOM_VAR1\t24653\tTP\n",
            "\n",
            "\n",
            "--------\n",
            "## htsjdk.samtools.metrics.StringHeader\n",
            "# GenotypeConcordance --TRUTH_VCF /content/drive/MyDrive/Inforbiomatic/data/resources/motherGIABsnps.fixedSeqDict.vcf.gz --CALL_VCF /content/drive/MyDrive/Inforbiomatic/data/callset-evaluation/motherSNP.fixedSeqDict.vcf.gz --OUTPUT /content/drive/MyDrive/Inforbiomatic/data/callset-evaluation/motherSNP.GenotypeConcordanc --OUTPUT_VCF false --INTERSECT_INTERVALS true --MIN_GQ 0 --MIN_DP 0 --OUTPUT_ALL_ROWS false --USE_VCF_INDEX false --MISSING_SITES_HOM_REF false --IGNORE_FILTER_STATUS false --VERBOSITY INFO --QUIET false --VALIDATION_STRINGENCY STRICT --COMPRESSION_LEVEL 2 --MAX_RECORDS_IN_RAM 500000 --CREATE_INDEX false --CREATE_MD5_FILE false --help false --version false --showHidden false --USE_JDK_DEFLATER false --USE_JDK_INFLATER false\n",
            "## htsjdk.samtools.metrics.StringHeader\n",
            "# Started on: Tue Jan 07 14:28:17 UTC 2025\n",
            "\n",
            "## METRICS CLASS\tpicard.vcf.GenotypeConcordanceContingencyMetrics\n",
            "VARIANT_TYPE\tTRUTH_SAMPLE\tCALL_SAMPLE\tTP_COUNT\tTN_COUNT\tFP_COUNT\tFN_COUNT\tEMPTY_COUNT\n",
            "SNP\tINTEGRATION\tNA12878\t66762\t62735\t23283\t327\t0\n",
            "INDEL\tINTEGRATION\tNA12878\t0\t0\t0\t0\t0\n",
            "\n",
            "\n"
          ]
        }
      ]
    },
    {
      "cell_type": "code",
      "source": [
        "#Fix lỗi các file vcf (Sequence dictionaries are not the same size)\n",
        "!java -jar ${TOOLS}/gatk/gatk-package-4.6.0.0-local.jar UpdateVCFSequenceDictionary \\\n",
        "-R ${DATA}/ref/Homo_sapiens_assembly19.fasta \\\n",
        "-V ${DATA}/callset-evaluation/mother.vcf.gz \\\n",
        "-O ${DATA}/callset-evaluation/mother.fixedSeqDict.vcf.gz \\\n",
        "--replace true"
      ],
      "metadata": {
        "colab": {
          "base_uri": "https://localhost:8080/"
        },
        "id": "194-rmRDLH8p",
        "outputId": "c7f0b3db-d996-4b5f-c9e0-58deff0c774d"
      },
      "execution_count": null,
      "outputs": [
        {
          "output_type": "stream",
          "name": "stdout",
          "text": [
            "14:30:51.168 INFO  NativeLibraryLoader - Loading libgkl_compression.so from jar:file:/content/drive/MyDrive/Inforbiomatic/tools/gatk/gatk-package-4.6.0.0-local.jar!/com/intel/gkl/native/libgkl_compression.so\n",
            "14:30:51.507 INFO  UpdateVCFSequenceDictionary - ------------------------------------------------------------\n",
            "14:30:51.517 INFO  UpdateVCFSequenceDictionary - The Genome Analysis Toolkit (GATK) v4.6.0.0\n",
            "14:30:51.517 INFO  UpdateVCFSequenceDictionary - For support and documentation go to https://software.broadinstitute.org/gatk/\n",
            "14:30:51.518 INFO  UpdateVCFSequenceDictionary - Executing as root@25e50bfea436 on Linux v6.1.85+ amd64\n",
            "14:30:51.518 INFO  UpdateVCFSequenceDictionary - Java runtime: OpenJDK 64-Bit Server VM v17.0.13+11-Ubuntu-2ubuntu122.04\n",
            "14:30:51.519 INFO  UpdateVCFSequenceDictionary - Start Date/Time: January 7, 2025 at 2:30:51 PM UTC\n",
            "14:30:51.519 INFO  UpdateVCFSequenceDictionary - ------------------------------------------------------------\n",
            "14:30:51.519 INFO  UpdateVCFSequenceDictionary - ------------------------------------------------------------\n",
            "14:30:51.521 INFO  UpdateVCFSequenceDictionary - HTSJDK Version: 4.1.1\n",
            "14:30:51.522 INFO  UpdateVCFSequenceDictionary - Picard Version: 3.2.0\n",
            "14:30:51.523 INFO  UpdateVCFSequenceDictionary - Built for Spark Version: 3.5.0\n",
            "14:30:51.523 INFO  UpdateVCFSequenceDictionary - HTSJDK Defaults.COMPRESSION_LEVEL : 2\n",
            "14:30:51.524 INFO  UpdateVCFSequenceDictionary - HTSJDK Defaults.USE_ASYNC_IO_READ_FOR_SAMTOOLS : false\n",
            "14:30:51.524 INFO  UpdateVCFSequenceDictionary - HTSJDK Defaults.USE_ASYNC_IO_WRITE_FOR_SAMTOOLS : true\n",
            "14:30:51.524 INFO  UpdateVCFSequenceDictionary - HTSJDK Defaults.USE_ASYNC_IO_WRITE_FOR_TRIBBLE : false\n",
            "14:30:51.526 INFO  UpdateVCFSequenceDictionary - Deflater: IntelDeflater\n",
            "14:30:51.526 INFO  UpdateVCFSequenceDictionary - Inflater: IntelInflater\n",
            "14:30:51.526 INFO  UpdateVCFSequenceDictionary - GCS max retries/reopens: 20\n",
            "14:30:51.527 INFO  UpdateVCFSequenceDictionary - Requester pays: disabled\n",
            "14:30:51.527 INFO  UpdateVCFSequenceDictionary - Initializing engine\n",
            "14:30:51.920 INFO  FeatureManager - Using codec VCFCodec to read file file:///content/drive/MyDrive/Inforbiomatic/data/callset-evaluation/mother.vcf.gz\n",
            "14:30:52.032 INFO  UpdateVCFSequenceDictionary - Done initializing engine\n",
            "14:30:52.135 INFO  ProgressMeter - Starting traversal\n",
            "14:30:52.136 INFO  ProgressMeter -        Current Locus  Elapsed Minutes    Variants Processed  Variants/Minute\n",
            "14:30:56.122 INFO  ProgressMeter -          20:62415693              0.1                108814        1639176.5\n",
            "14:30:56.123 INFO  ProgressMeter - Traversal complete. Processed 108814 total variants in 0.1 minutes.\n",
            "14:30:56.157 INFO  UpdateVCFSequenceDictionary - Shutting down engine\n",
            "[January 7, 2025 at 2:30:56 PM UTC] org.broadinstitute.hellbender.tools.walkers.variantutils.UpdateVCFSequenceDictionary done. Elapsed time: 0.09 minutes.\n",
            "Runtime.totalMemory()=339738624\n"
          ]
        }
      ]
    },
    {
      "cell_type": "code",
      "source": [
        "!java -jar ${TOOLS}/gatk/gatk-package-4.6.0.0-local.jar UpdateVCFSequenceDictionary \\\n",
        "-R ${DATA}/ref/Homo_sapiens_assembly19.fasta \\\n",
        "-V ${DATA}/resources/motherGIAB.vcf.gz \\\n",
        "-O ${DATA}/resources/motherGIAB.fixedSeqDict.vcf.gz \\\n",
        "--replace true"
      ],
      "metadata": {
        "colab": {
          "base_uri": "https://localhost:8080/"
        },
        "collapsed": true,
        "id": "QQqxn6-qLQk6",
        "outputId": "feac8ade-0830-40e5-eeb9-afd8addedf7e"
      },
      "execution_count": null,
      "outputs": [
        {
          "output_type": "stream",
          "name": "stdout",
          "text": [
            "14:31:20.782 INFO  NativeLibraryLoader - Loading libgkl_compression.so from jar:file:/content/drive/MyDrive/Inforbiomatic/tools/gatk/gatk-package-4.6.0.0-local.jar!/com/intel/gkl/native/libgkl_compression.so\n",
            "14:31:21.110 INFO  UpdateVCFSequenceDictionary - ------------------------------------------------------------\n",
            "14:31:21.117 INFO  UpdateVCFSequenceDictionary - The Genome Analysis Toolkit (GATK) v4.6.0.0\n",
            "14:31:21.117 INFO  UpdateVCFSequenceDictionary - For support and documentation go to https://software.broadinstitute.org/gatk/\n",
            "14:31:21.117 INFO  UpdateVCFSequenceDictionary - Executing as root@25e50bfea436 on Linux v6.1.85+ amd64\n",
            "14:31:21.118 INFO  UpdateVCFSequenceDictionary - Java runtime: OpenJDK 64-Bit Server VM v17.0.13+11-Ubuntu-2ubuntu122.04\n",
            "14:31:21.118 INFO  UpdateVCFSequenceDictionary - Start Date/Time: January 7, 2025 at 2:31:20 PM UTC\n",
            "14:31:21.119 INFO  UpdateVCFSequenceDictionary - ------------------------------------------------------------\n",
            "14:31:21.119 INFO  UpdateVCFSequenceDictionary - ------------------------------------------------------------\n",
            "14:31:21.122 INFO  UpdateVCFSequenceDictionary - HTSJDK Version: 4.1.1\n",
            "14:31:21.124 INFO  UpdateVCFSequenceDictionary - Picard Version: 3.2.0\n",
            "14:31:21.124 INFO  UpdateVCFSequenceDictionary - Built for Spark Version: 3.5.0\n",
            "14:31:21.125 INFO  UpdateVCFSequenceDictionary - HTSJDK Defaults.COMPRESSION_LEVEL : 2\n",
            "14:31:21.125 INFO  UpdateVCFSequenceDictionary - HTSJDK Defaults.USE_ASYNC_IO_READ_FOR_SAMTOOLS : false\n",
            "14:31:21.126 INFO  UpdateVCFSequenceDictionary - HTSJDK Defaults.USE_ASYNC_IO_WRITE_FOR_SAMTOOLS : true\n",
            "14:31:21.126 INFO  UpdateVCFSequenceDictionary - HTSJDK Defaults.USE_ASYNC_IO_WRITE_FOR_TRIBBLE : false\n",
            "14:31:21.126 INFO  UpdateVCFSequenceDictionary - Deflater: IntelDeflater\n",
            "14:31:21.127 INFO  UpdateVCFSequenceDictionary - Inflater: IntelInflater\n",
            "14:31:21.127 INFO  UpdateVCFSequenceDictionary - GCS max retries/reopens: 20\n",
            "14:31:21.127 INFO  UpdateVCFSequenceDictionary - Requester pays: disabled\n",
            "14:31:21.128 INFO  UpdateVCFSequenceDictionary - Initializing engine\n",
            "14:31:21.484 INFO  FeatureManager - Using codec VCFCodec to read file file:///content/drive/MyDrive/Inforbiomatic/data/resources/motherGIAB.vcf.gz\n",
            "14:31:21.619 INFO  UpdateVCFSequenceDictionary - Done initializing engine\n",
            "14:31:21.738 INFO  ProgressMeter - Starting traversal\n",
            "14:31:21.738 INFO  ProgressMeter -        Current Locus  Elapsed Minutes    Variants Processed  Variants/Minute\n",
            "14:31:27.654 INFO  ProgressMeter -          20:62518441              0.1                 75284         764692.7\n",
            "14:31:27.658 INFO  ProgressMeter - Traversal complete. Processed 75284 total variants in 0.1 minutes.\n",
            "14:31:27.745 INFO  UpdateVCFSequenceDictionary - Shutting down engine\n",
            "[January 7, 2025 at 2:31:27 PM UTC] org.broadinstitute.hellbender.tools.walkers.variantutils.UpdateVCFSequenceDictionary done. Elapsed time: 0.12 minutes.\n",
            "Runtime.totalMemory()=339738624\n"
          ]
        }
      ]
    },
    {
      "cell_type": "code",
      "source": [
        "!java -jar ${TOOLS}/gatk/gatk-package-4.6.0.0-local.jar GenotypeConcordance \\\n",
        "-CALL_VCF ${DATA}/callset-evaluation/mother.fixedSeqDict.vcf.gz \\\n",
        "-TRUTH_VCF ${DATA}/resources/motherGIAB.fixedSeqDict.vcf.gz \\\n",
        "-O ${DATA}/callset-evaluation/mother.GenotypeConcordance"
      ],
      "metadata": {
        "colab": {
          "base_uri": "https://localhost:8080/"
        },
        "collapsed": true,
        "id": "BM8deqP4LmBf",
        "outputId": "920e2596-9cc2-4ea0-aed4-0552f8689e33"
      },
      "execution_count": null,
      "outputs": [
        {
          "output_type": "stream",
          "name": "stdout",
          "text": [
            "14:33:02.213 INFO  NativeLibraryLoader - Loading libgkl_compression.so from jar:file:/content/drive/MyDrive/Inforbiomatic/tools/gatk/gatk-package-4.6.0.0-local.jar!/com/intel/gkl/native/libgkl_compression.so\n",
            "[Tue Jan 07 14:33:02 UTC 2025] GenotypeConcordance --TRUTH_VCF /content/drive/MyDrive/Inforbiomatic/data/resources/motherGIAB.fixedSeqDict.vcf.gz --CALL_VCF /content/drive/MyDrive/Inforbiomatic/data/callset-evaluation/mother.fixedSeqDict.vcf.gz --OUTPUT /content/drive/MyDrive/Inforbiomatic/data/callset-evaluation/mother.GenotypeConcordance --OUTPUT_VCF false --INTERSECT_INTERVALS true --MIN_GQ 0 --MIN_DP 0 --OUTPUT_ALL_ROWS false --USE_VCF_INDEX false --MISSING_SITES_HOM_REF false --IGNORE_FILTER_STATUS false --VERBOSITY INFO --QUIET false --VALIDATION_STRINGENCY STRICT --COMPRESSION_LEVEL 2 --MAX_RECORDS_IN_RAM 500000 --CREATE_INDEX false --CREATE_MD5_FILE false --help false --version false --showHidden false --USE_JDK_DEFLATER false --USE_JDK_INFLATER false\n",
            "[Tue Jan 07 14:33:02 UTC 2025] Executing as root@25e50bfea436 on Linux 6.1.85+ amd64; OpenJDK 64-Bit Server VM 17.0.13+11-Ubuntu-2ubuntu122.04; Deflater: Intel; Inflater: Intel; Provider GCS is available; Picard version: Version:4.6.0.0\n",
            "INFO\t2025-01-07 14:33:02\tGenotypeConcordance\tStarting iteration over variants.\n",
            "INFO\t2025-01-07 14:33:04\tGenotypeConcordance\tchecked        10,000 variants.  Elapsed time: 00:00:02s.  Time for last 10,000:    1s.  Last read position: 20:5,185,227\n",
            "INFO\t2025-01-07 14:33:04\tGenotypeConcordance\tchecked        20,000 variants.  Elapsed time: 00:00:02s.  Time for last 10,000:    0s.  Last read position: 20:10,968,733\n",
            "INFO\t2025-01-07 14:33:05\tGenotypeConcordance\tchecked        30,000 variants.  Elapsed time: 00:00:03s.  Time for last 10,000:    0s.  Last read position: 20:16,748,989\n",
            "INFO\t2025-01-07 14:33:05\tGenotypeConcordance\tchecked        40,000 variants.  Elapsed time: 00:00:03s.  Time for last 10,000:    0s.  Last read position: 20:23,267,657\n",
            "INFO\t2025-01-07 14:33:06\tGenotypeConcordance\tchecked        50,000 variants.  Elapsed time: 00:00:04s.  Time for last 10,000:    0s.  Last read position: 20:26,203,599\n",
            "INFO\t2025-01-07 14:33:06\tGenotypeConcordance\tchecked        60,000 variants.  Elapsed time: 00:00:04s.  Time for last 10,000:    0s.  Last read position: 20:30,777,800\n",
            "INFO\t2025-01-07 14:33:07\tGenotypeConcordance\tchecked        70,000 variants.  Elapsed time: 00:00:05s.  Time for last 10,000:    0s.  Last read position: 20:39,588,465\n",
            "INFO\t2025-01-07 14:33:08\tGenotypeConcordance\tchecked        80,000 variants.  Elapsed time: 00:00:06s.  Time for last 10,000:    0s.  Last read position: 20:46,895,842\n",
            "INFO\t2025-01-07 14:33:08\tGenotypeConcordance\tchecked        90,000 variants.  Elapsed time: 00:00:06s.  Time for last 10,000:    0s.  Last read position: 20:52,660,524\n",
            "INFO\t2025-01-07 14:33:09\tGenotypeConcordance\tchecked       100,000 variants.  Elapsed time: 00:00:07s.  Time for last 10,000:    0s.  Last read position: 20:58,168,212\n",
            "INFO\t2025-01-07 14:33:09\tGenotypeConcordance\tUncovered truth/call Variant Context Type Counts: NO_VARIATION MIXED 93\n",
            "INFO\t2025-01-07 14:33:09\tGenotypeConcordance\tUncovered truth/call Variant Context Type Counts: MIXED MIXED 14\n",
            "INFO\t2025-01-07 14:33:09\tGenotypeConcordance\tUncovered truth/call Variant Context Type Counts: MIXED NO_VARIATION 2\n",
            "INFO\t2025-01-07 14:33:09\tGenotypeConcordance\tUncovered truth/call Variant Context Type Counts: SNP INDEL 21\n",
            "INFO\t2025-01-07 14:33:09\tGenotypeConcordance\tUncovered truth/call Variant Context Type Counts: INDEL SNP 30\n",
            "[Tue Jan 07 14:33:09 UTC 2025] picard.vcf.GenotypeConcordance done. Elapsed time: 0.13 minutes.\n",
            "Runtime.totalMemory()=136314880\n",
            "Tool returned:\n",
            "0\n"
          ]
        }
      ]
    },
    {
      "cell_type": "code",
      "source": [
        "!cat ${DATA}/callset-evaluation/mother.GenotypeConcordance.genotype_concordance_summary_metrics\n",
        "!echo \"--------\"\n",
        "!cat ${DATA}/callset-evaluation/mother.GenotypeConcordance.genotype_concordance_detail_metrics"
      ],
      "metadata": {
        "collapsed": true,
        "colab": {
          "base_uri": "https://localhost:8080/"
        },
        "id": "WuW4yiycLyIw",
        "outputId": "cb2b68f9-a2d7-4147-9d63-ec776aa60705"
      },
      "execution_count": null,
      "outputs": [
        {
          "output_type": "stream",
          "name": "stdout",
          "text": [
            "## htsjdk.samtools.metrics.StringHeader\n",
            "# GenotypeConcordance --TRUTH_VCF /content/drive/MyDrive/Inforbiomatic/data/resources/motherGIAB.fixedSeqDict.vcf.gz --CALL_VCF /content/drive/MyDrive/Inforbiomatic/data/callset-evaluation/mother.fixedSeqDict.vcf.gz --OUTPUT /content/drive/MyDrive/Inforbiomatic/data/callset-evaluation/mother.GenotypeConcordance --OUTPUT_VCF false --INTERSECT_INTERVALS true --MIN_GQ 0 --MIN_DP 0 --OUTPUT_ALL_ROWS false --USE_VCF_INDEX false --MISSING_SITES_HOM_REF false --IGNORE_FILTER_STATUS false --VERBOSITY INFO --QUIET false --VALIDATION_STRINGENCY STRICT --COMPRESSION_LEVEL 2 --MAX_RECORDS_IN_RAM 500000 --CREATE_INDEX false --CREATE_MD5_FILE false --help false --version false --showHidden false --USE_JDK_DEFLATER false --USE_JDK_INFLATER false\n",
            "## htsjdk.samtools.metrics.StringHeader\n",
            "# Started on: Tue Jan 07 14:33:02 UTC 2025\n",
            "\n",
            "## METRICS CLASS\tpicard.vcf.GenotypeConcordanceSummaryMetrics\n",
            "VARIANT_TYPE\tTRUTH_SAMPLE\tCALL_SAMPLE\tHET_SENSITIVITY\tHET_PPV\tHET_SPECIFICITY\tHOMVAR_SENSITIVITY\tHOMVAR_PPV\tHOMVAR_SPECIFICITY\tVAR_SENSITIVITY\tVAR_PPV\tVAR_SPECIFICITY\tGENOTYPE_CONCORDANCE\tNON_REF_GENOTYPE_CONCORDANCE\n",
            "SNP\tINTEGRATION\tNA12878\t0.996902\t0.671209\t?\t0.996571\t0.896413\t?\t0.996779\t0.739857\t0.72797\t0.999417\t0.999417\n",
            "INDEL\tINTEGRATION\tNA12878\t0.948465\t0.402035\t?\t0.960125\t0.493584\t?\t0.952537\t0.429703\t0.529515\t0.978371\t0.978371\n",
            "\n",
            "\n",
            "--------\n",
            "## htsjdk.samtools.metrics.StringHeader\n",
            "# GenotypeConcordance --TRUTH_VCF /content/drive/MyDrive/Inforbiomatic/data/resources/motherGIAB.fixedSeqDict.vcf.gz --CALL_VCF /content/drive/MyDrive/Inforbiomatic/data/callset-evaluation/mother.fixedSeqDict.vcf.gz --OUTPUT /content/drive/MyDrive/Inforbiomatic/data/callset-evaluation/mother.GenotypeConcordance --OUTPUT_VCF false --INTERSECT_INTERVALS true --MIN_GQ 0 --MIN_DP 0 --OUTPUT_ALL_ROWS false --USE_VCF_INDEX false --MISSING_SITES_HOM_REF false --IGNORE_FILTER_STATUS false --VERBOSITY INFO --QUIET false --VALIDATION_STRINGENCY STRICT --COMPRESSION_LEVEL 2 --MAX_RECORDS_IN_RAM 500000 --CREATE_INDEX false --CREATE_MD5_FILE false --help false --version false --showHidden false --USE_JDK_DEFLATER false --USE_JDK_INFLATER false\n",
            "## htsjdk.samtools.metrics.StringHeader\n",
            "# Started on: Tue Jan 07 14:33:02 UTC 2025\n",
            "\n",
            "## METRICS CLASS\tpicard.vcf.GenotypeConcordanceDetailMetrics\n",
            "VARIANT_TYPE\tTRUTH_SAMPLE\tCALL_SAMPLE\tTRUTH_STATE\tCALL_STATE\tCOUNT\tCONTINGENCY_VALUES\n",
            "SNP\tINTEGRATION\tNA12878\tMISSING\tHET_REF_VAR1\t20633\tFP,TN\n",
            "SNP\tINTEGRATION\tNA12878\tMISSING\tHET_VAR1_VAR2\t19\tFP\n",
            "SNP\tINTEGRATION\tNA12878\tMISSING\tHOM_VAR1\t2852\tFP\n",
            "SNP\tINTEGRATION\tNA12878\tHET_REF_VAR1\tMISSING\t131\tTN,FN\n",
            "SNP\tINTEGRATION\tNA12878\tHET_REF_VAR1\tHET_REF_VAR1\t42137\tTP,TN\n",
            "SNP\tINTEGRATION\tNA12878\tHET_REF_VAR1\tHOM_VAR1\t1\tTP,FP\n",
            "SNP\tINTEGRATION\tNA12878\tHET_REF_VAR1\tIS_MIXED\t2\tEMPTY\n",
            "SNP\tINTEGRATION\tNA12878\tHET_VAR1_VAR2\tHET_VAR1_VAR2\t10\tTP\n",
            "SNP\tINTEGRATION\tNA12878\tHOM_VAR1\tMISSING\t72\tFN\n",
            "SNP\tINTEGRATION\tNA12878\tHOM_VAR1\tHET_REF_VAR1\t13\tTP,FN\n",
            "SNP\tINTEGRATION\tNA12878\tHOM_VAR1\tHOM_VAR1\t24688\tTP\n",
            "SNP\tINTEGRATION\tNA12878\tHOM_VAR1\tIS_MIXED\t2\tEMPTY\n",
            "SNP\tINTEGRATION\tNA12878\tIS_MIXED\tHET_REF_VAR1\t13\tEMPTY\n",
            "SNP\tINTEGRATION\tNA12878\tIS_MIXED\tHOM_VAR1\t8\tEMPTY\n",
            "INDEL\tINTEGRATION\tNA12878\tMISSING\tHET_REF_VAR1\t7012\tFP,TN\n",
            "INDEL\tINTEGRATION\tNA12878\tMISSING\tHET_VAR1_VAR2\t569\tFP\n",
            "INDEL\tINTEGRATION\tNA12878\tMISSING\tHOM_VAR1\t2791\tFP\n",
            "INDEL\tINTEGRATION\tNA12878\tHET_REF_VAR1\tMISSING\t146\tTN,FN\n",
            "INDEL\tINTEGRATION\tNA12878\tHET_REF_VAR1\tHET_REF_VAR1\t4577\tTP,TN\n",
            "INDEL\tINTEGRATION\tNA12878\tHET_REF_VAR1\tHET_VAR1_VAR2\t1\tTP,FP\n",
            "INDEL\tINTEGRATION\tNA12878\tHET_REF_VAR1\tHOM_VAR1\t3\tTP,FP\n",
            "INDEL\tINTEGRATION\tNA12878\tHET_REF_VAR1\tHET_REF_VAR2\t16\tFP,TN,FN\n",
            "INDEL\tINTEGRATION\tNA12878\tHET_REF_VAR1\tHET_VAR3_VAR4\t2\tFP,FN\n",
            "INDEL\tINTEGRATION\tNA12878\tHET_REF_VAR1\tIS_MIXED\t1\tEMPTY\n",
            "INDEL\tINTEGRATION\tNA12878\tHET_VAR1_VAR2\tMISSING\t42\tFN\n",
            "INDEL\tINTEGRATION\tNA12878\tHET_VAR1_VAR2\tHET_REF_VAR1\t40\tTP,FN\n",
            "INDEL\tINTEGRATION\tNA12878\tHET_VAR1_VAR2\tHET_VAR1_VAR2\t450\tTP\n",
            "INDEL\tINTEGRATION\tNA12878\tHET_VAR1_VAR2\tHOM_VAR1\t20\tTP,FN\n",
            "INDEL\tINTEGRATION\tNA12878\tHET_VAR1_VAR2\tHET_REF_VAR3\t1\tFP,FN\n",
            "INDEL\tINTEGRATION\tNA12878\tHET_VAR1_VAR2\tHET_VAR1_VAR3\t7\tTP,FP,FN\n",
            "INDEL\tINTEGRATION\tNA12878\tHET_VAR1_VAR2\tHET_VAR3_VAR4\t2\tFP,FN\n",
            "INDEL\tINTEGRATION\tNA12878\tHET_VAR1_VAR2\tHOM_VAR3\t1\tFP,FN\n",
            "INDEL\tINTEGRATION\tNA12878\tHET_VAR1_VAR2\tIS_MIXED\t3\tEMPTY\n",
            "INDEL\tINTEGRATION\tNA12878\tHOM_VAR1\tMISSING\t46\tFN\n",
            "INDEL\tINTEGRATION\tNA12878\tHOM_VAR1\tHET_REF_VAR1\t33\tTP,FN\n",
            "INDEL\tINTEGRATION\tNA12878\tHOM_VAR1\tHET_VAR1_VAR2\t28\tTP,FP,FN\n",
            "INDEL\tINTEGRATION\tNA12878\tHOM_VAR1\tHOM_VAR1\t2708\tTP\n",
            "INDEL\tINTEGRATION\tNA12878\tHOM_VAR1\tHET_REF_VAR2\t1\tFP,FN\n",
            "INDEL\tINTEGRATION\tNA12878\tHOM_VAR1\tHOM_VAR2\t7\tFP,FN\n",
            "INDEL\tINTEGRATION\tNA12878\tIS_MIXED\tHET_REF_VAR1\t2\tEMPTY\n",
            "INDEL\tINTEGRATION\tNA12878\tIS_MIXED\tHET_VAR1_VAR2\t1\tEMPTY\n",
            "INDEL\tINTEGRATION\tNA12878\tIS_MIXED\tHOM_VAR1\t2\tEMPTY\n",
            "\n",
            "\n"
          ]
        }
      ]
    },
    {
      "cell_type": "code",
      "source": [],
      "metadata": {
        "id": "mNtCY5CbL1pZ"
      },
      "execution_count": null,
      "outputs": []
    }
  ]
}