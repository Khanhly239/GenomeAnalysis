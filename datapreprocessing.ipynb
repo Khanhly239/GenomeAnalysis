{
  "nbformat": 4,
  "nbformat_minor": 0,
  "metadata": {
    "colab": {
      "provenance": []
    },
    "kernelspec": {
      "name": "python3",
      "display_name": "Python 3"
    },
    "language_info": {
      "name": "python"
    }
  },
  "cells": [
    {
      "cell_type": "code",
      "source": [
        "from google.colab import drive\n",
        "drive.mount('/content/drive')"
      ],
      "metadata": {
        "id": "YTN2olYyKirO",
        "colab": {
          "base_uri": "https://localhost:8080/"
        },
        "outputId": "c0e107ba-dd6c-4009-e4a4-2e13d41716d8"
      },
      "execution_count": null,
      "outputs": [
        {
          "output_type": "stream",
          "name": "stdout",
          "text": [
            "Drive already mounted at /content/drive; to attempt to forcibly remount, call drive.mount(\"/content/drive\", force_remount=True).\n"
          ]
        }
      ]
    },
    {
      "cell_type": "code",
      "source": [
        "!sudo apt-get install samtools"
      ],
      "metadata": {
        "id": "05fKB9GLv5fx",
        "colab": {
          "base_uri": "https://localhost:8080/"
        },
        "outputId": "78c0d0ef-68e6-4844-f1e3-86813eae4486"
      },
      "execution_count": null,
      "outputs": [
        {
          "output_type": "stream",
          "name": "stdout",
          "text": [
            "Reading package lists... Done\n",
            "Building dependency tree... Done\n",
            "Reading state information... Done\n",
            "The following additional packages will be installed:\n",
            "  libhts3 libhtscodecs2\n",
            "Suggested packages:\n",
            "  cwltool\n",
            "The following NEW packages will be installed:\n",
            "  libhts3 libhtscodecs2 samtools\n",
            "0 upgraded, 3 newly installed, 0 to remove and 49 not upgraded.\n",
            "Need to get 963 kB of archives.\n",
            "After this operation, 2,270 kB of additional disk space will be used.\n",
            "Get:1 http://archive.ubuntu.com/ubuntu jammy/universe amd64 libhtscodecs2 amd64 1.1.1-3 [53.2 kB]\n",
            "Get:2 http://archive.ubuntu.com/ubuntu jammy/universe amd64 libhts3 amd64 1.13+ds-2build1 [390 kB]\n",
            "Get:3 http://archive.ubuntu.com/ubuntu jammy/universe amd64 samtools amd64 1.13-4 [520 kB]\n",
            "Fetched 963 kB in 1s (874 kB/s)\n",
            "debconf: unable to initialize frontend: Dialog\n",
            "debconf: (No usable dialog-like program is installed, so the dialog based frontend cannot be used. at /usr/share/perl5/Debconf/FrontEnd/Dialog.pm line 78, <> line 3.)\n",
            "debconf: falling back to frontend: Readline\n",
            "debconf: unable to initialize frontend: Readline\n",
            "debconf: (This frontend requires a controlling tty.)\n",
            "debconf: falling back to frontend: Teletype\n",
            "dpkg-preconfigure: unable to re-open stdin: \n",
            "Selecting previously unselected package libhtscodecs2:amd64.\n",
            "(Reading database ... 123629 files and directories currently installed.)\n",
            "Preparing to unpack .../libhtscodecs2_1.1.1-3_amd64.deb ...\n",
            "Unpacking libhtscodecs2:amd64 (1.1.1-3) ...\n",
            "Selecting previously unselected package libhts3:amd64.\n",
            "Preparing to unpack .../libhts3_1.13+ds-2build1_amd64.deb ...\n",
            "Unpacking libhts3:amd64 (1.13+ds-2build1) ...\n",
            "Selecting previously unselected package samtools.\n",
            "Preparing to unpack .../samtools_1.13-4_amd64.deb ...\n",
            "Unpacking samtools (1.13-4) ...\n",
            "Setting up libhtscodecs2:amd64 (1.1.1-3) ...\n",
            "Setting up libhts3:amd64 (1.13+ds-2build1) ...\n",
            "Setting up samtools (1.13-4) ...\n",
            "Processing triggers for man-db (2.10.2-1) ...\n",
            "Processing triggers for libc-bin (2.35-0ubuntu3.4) ...\n",
            "/sbin/ldconfig.real: /usr/local/lib/libtbbbind.so.3 is not a symbolic link\n",
            "\n",
            "/sbin/ldconfig.real: /usr/local/lib/libur_adapter_opencl.so.0 is not a symbolic link\n",
            "\n",
            "/sbin/ldconfig.real: /usr/local/lib/libtbb.so.12 is not a symbolic link\n",
            "\n",
            "/sbin/ldconfig.real: /usr/local/lib/libtbbbind_2_5.so.3 is not a symbolic link\n",
            "\n",
            "/sbin/ldconfig.real: /usr/local/lib/libur_adapter_level_zero.so.0 is not a symbolic link\n",
            "\n",
            "/sbin/ldconfig.real: /usr/local/lib/libur_loader.so.0 is not a symbolic link\n",
            "\n",
            "/sbin/ldconfig.real: /usr/local/lib/libtbbmalloc.so.2 is not a symbolic link\n",
            "\n",
            "/sbin/ldconfig.real: /usr/local/lib/libtbbmalloc_proxy.so.2 is not a symbolic link\n",
            "\n",
            "/sbin/ldconfig.real: /usr/local/lib/libtbbbind_2_0.so.3 is not a symbolic link\n",
            "\n"
          ]
        }
      ]
    },
    {
      "cell_type": "code",
      "source": [
        "!sudo apt-get install bwa"
      ],
      "metadata": {
        "colab": {
          "base_uri": "https://localhost:8080/"
        },
        "id": "vigjC4ab2kxM",
        "outputId": "42b9e08f-5c69-48f6-a104-d7df03f588ef"
      },
      "execution_count": null,
      "outputs": [
        {
          "output_type": "stream",
          "name": "stdout",
          "text": [
            "Reading package lists... Done\n",
            "Building dependency tree... Done\n",
            "Reading state information... Done\n",
            "The following NEW packages will be installed:\n",
            "  bwa\n",
            "0 upgraded, 1 newly installed, 0 to remove and 49 not upgraded.\n",
            "Need to get 195 kB of archives.\n",
            "After this operation, 466 kB of additional disk space will be used.\n",
            "Get:1 http://archive.ubuntu.com/ubuntu jammy/universe amd64 bwa amd64 0.7.17-6 [195 kB]\n",
            "Fetched 195 kB in 1s (258 kB/s)\n",
            "debconf: unable to initialize frontend: Dialog\n",
            "debconf: (No usable dialog-like program is installed, so the dialog based frontend cannot be used. at /usr/share/perl5/Debconf/FrontEnd/Dialog.pm line 78, <> line 1.)\n",
            "debconf: falling back to frontend: Readline\n",
            "debconf: unable to initialize frontend: Readline\n",
            "debconf: (This frontend requires a controlling tty.)\n",
            "debconf: falling back to frontend: Teletype\n",
            "dpkg-preconfigure: unable to re-open stdin: \n",
            "Selecting previously unselected package bwa.\n",
            "(Reading database ... 123728 files and directories currently installed.)\n",
            "Preparing to unpack .../bwa_0.7.17-6_amd64.deb ...\n",
            "Unpacking bwa (0.7.17-6) ...\n",
            "Setting up bwa (0.7.17-6) ...\n",
            "Processing triggers for man-db (2.10.2-1) ...\n"
          ]
        }
      ]
    },
    {
      "cell_type": "code",
      "source": [
        "!chmod +x /content/drive/MyDrive/GenomeAnalysis/tools/FastQC/fastqc"
      ],
      "metadata": {
        "id": "7xZ_PBNw3x-E"
      },
      "execution_count": null,
      "outputs": []
    },
    {
      "cell_type": "code",
      "source": [
        "!sudo apt-get install perl"
      ],
      "metadata": {
        "colab": {
          "base_uri": "https://localhost:8080/"
        },
        "id": "CuY-eI-X32Xj",
        "outputId": "19ed6c5d-7904-4861-a3b6-83fae1d25ce2"
      },
      "execution_count": null,
      "outputs": [
        {
          "output_type": "stream",
          "name": "stdout",
          "text": [
            "Reading package lists... Done\n",
            "Building dependency tree... Done\n",
            "Reading state information... Done\n",
            "The following additional packages will be installed:\n",
            "  libperl5.34 perl-base perl-modules-5.34\n",
            "Suggested packages:\n",
            "  perl-doc libterm-readline-gnu-perl | libterm-readline-perl-perl\n",
            "  libtap-harness-archive-perl\n",
            "Recommended packages:\n",
            "  netbase\n",
            "The following packages will be upgraded:\n",
            "  libperl5.34 perl perl-base perl-modules-5.34\n",
            "4 upgraded, 0 newly installed, 0 to remove and 45 not upgraded.\n",
            "Need to get 9,790 kB of archives.\n",
            "After this operation, 8,192 B of additional disk space will be used.\n",
            "Get:1 http://archive.ubuntu.com/ubuntu jammy-updates/main amd64 libperl5.34 amd64 5.34.0-3ubuntu1.3 [4,820 kB]\n",
            "Get:2 http://archive.ubuntu.com/ubuntu jammy-updates/main amd64 perl amd64 5.34.0-3ubuntu1.3 [232 kB]\n",
            "Get:3 http://archive.ubuntu.com/ubuntu jammy-updates/main amd64 perl-base amd64 5.34.0-3ubuntu1.3 [1,762 kB]\n",
            "Get:4 http://archive.ubuntu.com/ubuntu jammy-updates/main amd64 perl-modules-5.34 all 5.34.0-3ubuntu1.3 [2,976 kB]\n",
            "Fetched 9,790 kB in 1s (6,605 kB/s)\n",
            "debconf: unable to initialize frontend: Dialog\n",
            "debconf: (No usable dialog-like program is installed, so the dialog based frontend cannot be used. at /usr/share/perl5/Debconf/FrontEnd/Dialog.pm line 78, <> line 4.)\n",
            "debconf: falling back to frontend: Readline\n",
            "debconf: unable to initialize frontend: Readline\n",
            "debconf: (This frontend requires a controlling tty.)\n",
            "debconf: falling back to frontend: Teletype\n",
            "dpkg-preconfigure: unable to re-open stdin: \n",
            "(Reading database ... 123745 files and directories currently installed.)\n",
            "Preparing to unpack .../libperl5.34_5.34.0-3ubuntu1.3_amd64.deb ...\n",
            "Unpacking libperl5.34:amd64 (5.34.0-3ubuntu1.3) over (5.34.0-3ubuntu1.2) ...\n",
            "Preparing to unpack .../perl_5.34.0-3ubuntu1.3_amd64.deb ...\n",
            "Unpacking perl (5.34.0-3ubuntu1.3) over (5.34.0-3ubuntu1.2) ...\n",
            "Preparing to unpack .../perl-base_5.34.0-3ubuntu1.3_amd64.deb ...\n",
            "Unpacking perl-base (5.34.0-3ubuntu1.3) over (5.34.0-3ubuntu1.2) ...\n",
            "Setting up perl-base (5.34.0-3ubuntu1.3) ...\n",
            "(Reading database ... 123745 files and directories currently installed.)\n",
            "Preparing to unpack .../perl-modules-5.34_5.34.0-3ubuntu1.3_all.deb ...\n",
            "Unpacking perl-modules-5.34 (5.34.0-3ubuntu1.3) over (5.34.0-3ubuntu1.2) ...\n",
            "Setting up perl-modules-5.34 (5.34.0-3ubuntu1.3) ...\n",
            "Setting up libperl5.34:amd64 (5.34.0-3ubuntu1.3) ...\n",
            "Setting up perl (5.34.0-3ubuntu1.3) ...\n",
            "Processing triggers for man-db (2.10.2-1) ...\n",
            "Processing triggers for libc-bin (2.35-0ubuntu3.4) ...\n",
            "/sbin/ldconfig.real: /usr/local/lib/libtbbbind.so.3 is not a symbolic link\n",
            "\n",
            "/sbin/ldconfig.real: /usr/local/lib/libur_adapter_opencl.so.0 is not a symbolic link\n",
            "\n",
            "/sbin/ldconfig.real: /usr/local/lib/libtbb.so.12 is not a symbolic link\n",
            "\n",
            "/sbin/ldconfig.real: /usr/local/lib/libtbbbind_2_5.so.3 is not a symbolic link\n",
            "\n",
            "/sbin/ldconfig.real: /usr/local/lib/libur_adapter_level_zero.so.0 is not a symbolic link\n",
            "\n",
            "/sbin/ldconfig.real: /usr/local/lib/libur_loader.so.0 is not a symbolic link\n",
            "\n",
            "/sbin/ldconfig.real: /usr/local/lib/libtbbmalloc.so.2 is not a symbolic link\n",
            "\n",
            "/sbin/ldconfig.real: /usr/local/lib/libtbbmalloc_proxy.so.2 is not a symbolic link\n",
            "\n",
            "/sbin/ldconfig.real: /usr/local/lib/libtbbbind_2_0.so.3 is not a symbolic link\n",
            "\n"
          ]
        }
      ]
    },
    {
      "cell_type": "code",
      "source": [
        "import os\n",
        "os.environ['DATA'] = \"/content/drive/MyDrive/GenomeAnalysis/data\"\n",
        "os.environ['TOOLS'] = \"/content/drive/MyDrive/GenomeAnalysis/tools\"\n",
        "os.environ['SampleID'] = \"child\""
      ],
      "metadata": {
        "id": "LhQRv4AY2qaV"
      },
      "execution_count": null,
      "outputs": []
    },
    {
      "cell_type": "code",
      "source": [
        "!${TOOLS}/FastQC/fastqc ${DATA}/fastqs/${SampleID}.R1.fq.gz\n",
        "!${TOOLS}/FastQC/fastqc ${DATA}/fastqs/${SampleID}.R2.fq.gz"
      ],
      "metadata": {
        "colab": {
          "base_uri": "https://localhost:8080/"
        },
        "id": "0AMAnYPW20yp",
        "outputId": "6bae01ef-4685-43cd-ba3b-f2b63474bd66"
      },
      "execution_count": null,
      "outputs": [
        {
          "output_type": "stream",
          "name": "stdout",
          "text": [
            "application/gzip\n",
            "Started analysis of child.R1.fq.gz\n",
            "Approx 5% complete for child.R1.fq.gz\n",
            "Approx 10% complete for child.R1.fq.gz\n",
            "Approx 15% complete for child.R1.fq.gz\n",
            "Approx 20% complete for child.R1.fq.gz\n",
            "Approx 25% complete for child.R1.fq.gz\n",
            "Approx 30% complete for child.R1.fq.gz\n",
            "Approx 35% complete for child.R1.fq.gz\n",
            "Approx 40% complete for child.R1.fq.gz\n",
            "Approx 45% complete for child.R1.fq.gz\n",
            "Approx 50% complete for child.R1.fq.gz\n",
            "Approx 55% complete for child.R1.fq.gz\n",
            "Approx 60% complete for child.R1.fq.gz\n",
            "Approx 65% complete for child.R1.fq.gz\n",
            "Approx 70% complete for child.R1.fq.gz\n",
            "Approx 75% complete for child.R1.fq.gz\n",
            "Approx 80% complete for child.R1.fq.gz\n",
            "Approx 85% complete for child.R1.fq.gz\n",
            "Approx 90% complete for child.R1.fq.gz\n",
            "Approx 95% complete for child.R1.fq.gz\n",
            "Analysis complete for child.R1.fq.gz\n",
            "application/gzip\n",
            "Started analysis of child.R2.fq.gz\n",
            "Approx 5% complete for child.R2.fq.gz\n",
            "Approx 10% complete for child.R2.fq.gz\n",
            "Approx 15% complete for child.R2.fq.gz\n",
            "Approx 20% complete for child.R2.fq.gz\n",
            "Approx 25% complete for child.R2.fq.gz\n",
            "Approx 30% complete for child.R2.fq.gz\n",
            "Approx 35% complete for child.R2.fq.gz\n",
            "Approx 40% complete for child.R2.fq.gz\n",
            "Approx 45% complete for child.R2.fq.gz\n",
            "Approx 50% complete for child.R2.fq.gz\n",
            "Approx 55% complete for child.R2.fq.gz\n",
            "Approx 60% complete for child.R2.fq.gz\n",
            "Approx 65% complete for child.R2.fq.gz\n",
            "Approx 70% complete for child.R2.fq.gz\n",
            "Approx 75% complete for child.R2.fq.gz\n",
            "Approx 80% complete for child.R2.fq.gz\n",
            "Approx 85% complete for child.R2.fq.gz\n",
            "Approx 90% complete for child.R2.fq.gz\n",
            "Approx 95% complete for child.R2.fq.gz\n",
            "Analysis complete for child.R2.fq.gz\n"
          ]
        }
      ]
    },
    {
      "cell_type": "code",
      "source": [
        "# Set environment variables\n",
        "os.environ['OutputFolder'] = \"/content/drive/MyDrive/GenomeAnalysis/data/data_preprocessing\"\n",
        "os.environ['SampleID'] = \"child\""
      ],
      "metadata": {
        "id": "z2IGhQp34obB"
      },
      "execution_count": null,
      "outputs": []
    },
    {
      "cell_type": "code",
      "source": [
        "!bwa mem \\\n",
        "${DATA}/ref/Homo_sapiens_assembly19.fasta \\\n",
        "${DATA}/fastqs/${SampleID}.R1.fq.gz \\\n",
        "${DATA}/fastqs/${SampleID}.R2.fq.gz \\\n",
        "> ${DATA}/data_preprocessing/${SampleID}.sam"
      ],
      "metadata": {
        "colab": {
          "base_uri": "https://localhost:8080/"
        },
        "id": "18p7YJfa5ImI",
        "outputId": "09111b55-4dde-44db-dd2e-af230bab76ae"
      },
      "execution_count": null,
      "outputs": [
        {
          "output_type": "stream",
          "name": "stdout",
          "text": [
            "[M::bwa_idx_load_from_disk] read 0 ALT contigs\n",
            "[M::process] read 47708 sequences (4770800 bp)...\n",
            "[M::mem_pestat] # candidate unique pairs for (FF, FR, RF, RR): (0, 18926, 0, 0)\n",
            "[M::mem_pestat] skip orientation FF as there are not enough pairs\n",
            "[M::mem_pestat] analyzing insert size distribution for orientation FR...\n",
            "[M::mem_pestat] (25, 50, 75) percentile: (157, 188, 242)\n",
            "[M::mem_pestat] low and high boundaries for computing mean and std.dev: (1, 412)\n",
            "[M::mem_pestat] mean and std.dev: (203.41, 63.32)\n",
            "[M::mem_pestat] low and high boundaries for proper pairs: (1, 497)\n",
            "[M::mem_pestat] skip orientation RF as there are not enough pairs\n",
            "[M::mem_pestat] skip orientation RR as there are not enough pairs\n",
            "[M::mem_process_seqs] Processed 47708 reads in 8.966 CPU sec, 9.075 real sec\n",
            "[main] Version: 0.7.17-r1188\n",
            "[main] CMD: bwa mem /content/drive/MyDrive/GenomeAnalysis/data/ref/Homo_sapiens_assembly19.fasta /content/drive/MyDrive/GenomeAnalysis/data/fastqs/child.R1.fq.gz /content/drive/MyDrive/GenomeAnalysis/data/fastqs/child.R2.fq.gz\n",
            "[main] Real time: 78.767 sec; CPU: 16.266 sec\n"
          ]
        }
      ]
    },
    {
      "cell_type": "code",
      "source": [
        "!echo \"Top 9\"\n",
        "!samtools view ${OutputFolder}/${SampleID}.sam | head -n 9"
      ],
      "metadata": {
        "colab": {
          "base_uri": "https://localhost:8080/"
        },
        "id": "aZt88YQm7f9w",
        "outputId": "b6879f00-fffc-4afc-d052-4b88c96ae365"
      },
      "execution_count": null,
      "outputs": [
        {
          "output_type": "stream",
          "name": "stdout",
          "text": [
            "Top 9\n",
            "HWI-1KL149:97:C6Y6VACXX:4:1101:1313:67465\t83\t22\t23482590\t60\t100M\t=\t23482528\t-162\tGTTCTGGGAATGGGCCATCTTTCCCCAACTACAGAGGCCTTTCCAAATGAAGCTCTGCAGAAACAACTCACTAAAAGAGACCAAAAAGCTGTCATTATTT\t@9@;A@AKA@A?@<>9@B6?FA>F@:(:>EC:@IGABGA9A@':ADD@>7F9=1GBGF@>@CA8&8;BD?CACD7FEC?@@7CA>-E:\"A>@DBB=<=>=\tNM:i:1\tMD:Z:64C35\tMC:Z:100M\tAS:i:95\tXS:i:20\n",
            "HWI-1KL149:97:C6Y6VACXX:4:1101:1313:67465\t163\t22\t23482528\t60\t100M\t=\t23482590\t162\tGCCCGATGGCCATAGGCAGTGGTAATCTGGGTGGCATTGATGTTAATGGGAAGCTCCAAGGAGTTCTGGGAATGGGCCATCTTTCCCCAACTACAGAGGC\t+8;@,>:@4BAC?DE<B=A@BBCDD>ECFDDBCBDEEDFDE;CDDDAF<EAEEFCFDEEFEEFDFGCH:;@;A?>BCCCBBCCCCDBDA@;DACDCA;=D\tNM:i:0\tMD:Z:100\tMC:Z:100M\tAS:i:100\tXS:i:0\n",
            "HWI-1KL149:97:C6Y6VACXX:4:1101:1600:90584\t83\t22\t45159479\t60\t100M\t=\t45159343\t-236\tATCAGGCAGATGTTAGCGACTGAAAAGGGAATCGGAAGGACAGGGCATTTGTAGATCAGGGTATTGAAATGGAAGTGCAAATGGAGGCAAATTCGGGGAG\tABABCJDJKHHJHCIJEIC=FCC?FIGGHB:EAABEGDFEGFAEAFEDDEFDFEEDFECA@DEDE:DDEECECCDFDGCDEB@EFCAHDEGDE@HED<BB\tNM:i:0\tMD:Z:100\tMC:Z:29M1I70M\tAS:i:100\tXS:i:0\n",
            "HWI-1KL149:97:C6Y6VACXX:4:1101:1600:90584\t163\t22\t45159343\t60\t29M1I70M\t=\t45159479\t236\tGCCTGGGTGACAAAGCGAGACTCTGTCTCAAAAAAAAAAAAAAAAAAAAAAAATACTTTTCAGAAGAGGGAAAAATCATGACTGTCATACAGATGTAAAA\t?B?DEED<IDGFEDEDACECEEEEFD@EFFDDDDDDDCAECBDDD=?DEE##################################################\tNM:i:4\tMD:Z:3C46G18T29\tMC:Z:100M\tAS:i:78\tXS:i:54\n",
            "HWI-1KL149:97:C6Y6VACXX:4:1101:1721:71386\t99\t22\t23503509\t60\t100M\t=\t23503607\t198\tCCCTCTCTGTTCCAGTGCCTGGAAGGCCCTCTCTTGGCTTGTGTCAGGCCATTCAGGCCTTGAACAGCAGGCCCAGAAGCTTCAGCTCACAGCTCTGACT\tBB@EEIHHJEEGECECFECEGCDDFEDCCFFFFECGDFFDFCGDFFAEGDEEDFEEEGDFEGEEEGFEGHGHIHI?@IJIIGJGJJGKHJHKKDDHE?DC\tNM:i:0\tMD:Z:100\tMC:Z:100M\tAS:i:100\tXS:i:0\n",
            "HWI-1KL149:97:C6Y6VACXX:4:1101:1721:71386\t147\t22\t23503607\t60\t100M\t=\t23503509\t-198\tCTGTCAGGGCCGGCATCCCCTGCCCAGTGTCAGCTACAGGATTCCTGGTTGATGCTAAATTACTTCTCCCCTCCTTACAGAAATGGAAGGGAGTCCGCCC\tFABBHIJIKGEIJIGGHHHJGJHHIHIFHEHHII@DGHGHEECFHEFEEBFFFDGDDDEDB?FDCFDDDDFDDFDDDFEECCDEBEDGEAGHFCE?C>AB\tNM:i:0\tMD:Z:100\tMC:Z:100M\tAS:i:100\tXS:i:0\n",
            "HWI-1KL149:97:C6Y6VACXX:4:1101:1867:26639\t83\t22\t23230333\t60\t100M\t=\t23230295\t-138\tGTCGCCCATGGCCTGCTGCGCCCAATGGTTGCACCGCAAAGCGGGGACCCAGACCCTGGAGCCTCAGTTGGAAGCAGCCGATCCAGCCTGCGGAGCCTGT\tBB>CGHDBDJECCEJJGJ?DGHD?DCIHFCD??GDHGFEGHAGGEGBEECGF@DDFFCFFDDFDGB@DECEDEDHCGD:FDDCFEEDGFHDGGIHDD@AB\tNM:i:0\tMD:Z:100\tMC:Z:8S61M31S\tAS:i:100\tXS:i:20\n",
            "HWI-1KL149:97:C6Y6VACXX:4:1101:1867:26639\t163\t22\t23230295\t40\t8S61M31S\t=\t23230333\t138\tTGGGCCCCGGCAGCGCTGGGCCCCGCTGCTGCTGGGGCTGGCCCTGGGCGCCCATGGGCCGCTGCGCCCCAAGGGTGGCCCGCAAAACGGGGGCCCAGAC\t####################################################################################################\tNM:i:7\tMD:Z:11C3T12T6A3T9C1T9\tMC:Z:100M\tAS:i:26\tXS:i:22\tXA:Z:6,+170254008,25M75S,1;\n",
            "HWI-1KL149:97:C6Y6VACXX:4:1101:1934:76605\t99\t22\t22893130\t60\t100M\t=\t22893288\t258\tCCAGCTGCATCCTGCTCAGGTTCCCAGGGCCCCACACCAAGCTGCTAGGTCACCCTTACCTGGGGCGAACCTCCTGGGCAAGGAGCACATCAAGTCCATC\tBB@DEIHGHGHEGGEEEEFCDDFCCFFDDFCCCEEFFCFDFFFGFFDFDEFFFCDFDDFCGGFFFHDEFHIHIIIFFHJFGJHFJJEJHHKHHKEIE@CF\tNM:i:0\tMD:Z:100\tMC:Z:100M\tAS:i:100\tXS:i:0\n"
          ]
        }
      ]
    },
    {
      "cell_type": "code",
      "source": [
        "# Run the statistics command\n",
        "!echo \"Statistics\"\n",
        "!samtools view ${OutputFolder}/${SampleID}.sam| \\\n",
        "cut -f 3 | \\\n",
        "sort | \\\n",
        "uniq -c | \\\n",
        "sort -nr | \\\n",
        "sed -e 's/^ *//;s/ /\\t/' | \\\n",
        "awk '{{print $2,$1}}' OFS=\"\\t\""
      ],
      "metadata": {
        "colab": {
          "base_uri": "https://localhost:8080/"
        },
        "id": "BuzZgeSA70Df",
        "outputId": "31b79360-043b-4ed7-951b-0c29546da7f4"
      },
      "execution_count": null,
      "outputs": [
        {
          "output_type": "stream",
          "name": "stdout",
          "text": [
            "Statistics\n",
            "22\t47522\n",
            "MT\t172\n",
            "7\t8\n",
            "1\t6\n",
            "GL000212.1\t4\n",
            "2\t3\n",
            "3\t2\n",
            "9\t1\n",
            "8\t1\n",
            "4\t1\n"
          ]
        }
      ]
    },
    {
      "cell_type": "code",
      "source": [
        "SAMFile = f\"{os.environ['OutputFolder']}/{os.environ['SampleID']}.sam\"\n",
        "BAMFile = f\"{os.environ['OutputFolder']}/{os.environ['SampleID']}.bam\"\n",
        "# SAM to BAM\n",
        "!samtools view -Sb {SAMFile} > {BAMFile}"
      ],
      "metadata": {
        "id": "4v2TxZiR_H7Q"
      },
      "execution_count": null,
      "outputs": []
    },
    {
      "cell_type": "code",
      "source": [
        "!ls /content/drive/MyDrive/GenomeAnalysis/data/data_preprocessing"
      ],
      "metadata": {
        "colab": {
          "base_uri": "https://localhost:8080/"
        },
        "id": "ciDqI2ok_RgZ",
        "outputId": "9896ef76-89f0-4c4e-aeb1-1a787492c4d2"
      },
      "execution_count": null,
      "outputs": [
        {
          "output_type": "stream",
          "name": "stdout",
          "text": [
            "child.bam\t\t      mother.sam\t\t   mother.sorted.markedDup.bam\n",
            "child.sam\t\t      mother.sorted.bam\t\t   mother.sorted.markedDup.bam.flagstat\n",
            "mother.bam\t\t      mother.sorted.bam.bai\n",
            "mother.markedDup_metrics.txt  mother.sorted.bam.depth.txt\n"
          ]
        }
      ]
    },
    {
      "cell_type": "code",
      "source": [
        "!echo \"Top 5\"\n",
        "!samtools view ${OutputFolder}/${SampleID}.bam | head -n 5"
      ],
      "metadata": {
        "colab": {
          "base_uri": "https://localhost:8080/"
        },
        "id": "jk8JDPj3_g8w",
        "outputId": "349ebb1a-6654-4315-edf0-950c9768d7cd"
      },
      "execution_count": null,
      "outputs": [
        {
          "output_type": "stream",
          "name": "stdout",
          "text": [
            "Top 5\n",
            "HWI-1KL149:97:C6Y6VACXX:4:1101:1313:67465\t83\t22\t23482590\t60\t100M\t=\t23482528\t-162\tGTTCTGGGAATGGGCCATCTTTCCCCAACTACAGAGGCCTTTCCAAATGAAGCTCTGCAGAAACAACTCACTAAAAGAGACCAAAAAGCTGTCATTATTT\t@9@;A@AKA@A?@<>9@B6?FA>F@:(:>EC:@IGABGA9A@':ADD@>7F9=1GBGF@>@CA8&8;BD?CACD7FEC?@@7CA>-E:\"A>@DBB=<=>=\tNM:i:1\tMD:Z:64C35\tMC:Z:100M\tAS:i:95\tXS:i:20\n",
            "HWI-1KL149:97:C6Y6VACXX:4:1101:1313:67465\t163\t22\t23482528\t60\t100M\t=\t23482590\t162\tGCCCGATGGCCATAGGCAGTGGTAATCTGGGTGGCATTGATGTTAATGGGAAGCTCCAAGGAGTTCTGGGAATGGGCCATCTTTCCCCAACTACAGAGGC\t+8;@,>:@4BAC?DE<B=A@BBCDD>ECFDDBCBDEEDFDE;CDDDAF<EAEEFCFDEEFEEFDFGCH:;@;A?>BCCCBBCCCCDBDA@;DACDCA;=D\tNM:i:0\tMD:Z:100\tMC:Z:100M\tAS:i:100\tXS:i:0\n",
            "HWI-1KL149:97:C6Y6VACXX:4:1101:1600:90584\t83\t22\t45159479\t60\t100M\t=\t45159343\t-236\tATCAGGCAGATGTTAGCGACTGAAAAGGGAATCGGAAGGACAGGGCATTTGTAGATCAGGGTATTGAAATGGAAGTGCAAATGGAGGCAAATTCGGGGAG\tABABCJDJKHHJHCIJEIC=FCC?FIGGHB:EAABEGDFEGFAEAFEDDEFDFEEDFECA@DEDE:DDEECECCDFDGCDEB@EFCAHDEGDE@HED<BB\tNM:i:0\tMD:Z:100\tMC:Z:29M1I70M\tAS:i:100\tXS:i:0\n",
            "HWI-1KL149:97:C6Y6VACXX:4:1101:1600:90584\t163\t22\t45159343\t60\t29M1I70M\t=\t45159479\t236\tGCCTGGGTGACAAAGCGAGACTCTGTCTCAAAAAAAAAAAAAAAAAAAAAAAATACTTTTCAGAAGAGGGAAAAATCATGACTGTCATACAGATGTAAAA\t?B?DEED<IDGFEDEDACECEEEEFD@EFFDDDDDDDCAECBDDD=?DEE##################################################\tNM:i:4\tMD:Z:3C46G18T29\tMC:Z:100M\tAS:i:78\tXS:i:54\n",
            "HWI-1KL149:97:C6Y6VACXX:4:1101:1721:71386\t99\t22\t23503509\t60\t100M\t=\t23503607\t198\tCCCTCTCTGTTCCAGTGCCTGGAAGGCCCTCTCTTGGCTTGTGTCAGGCCATTCAGGCCTTGAACAGCAGGCCCAGAAGCTTCAGCTCACAGCTCTGACT\tBB@EEIHHJEEGECECFECEGCDDFEDCCFFFFECGDFFDFCGDFFAEGDEEDFEEEGDFEGEEEGFEGHGHIHI?@IJIIGJGJJGKHJHKKDDHE?DC\tNM:i:0\tMD:Z:100\tMC:Z:100M\tAS:i:100\tXS:i:0\n"
          ]
        }
      ]
    },
    {
      "cell_type": "code",
      "source": [
        "!echo \"Statistics\"\n",
        "!samtools view ${OutputFolder}/${SampleID}.bam| \\\n",
        "cut -f 3 | \\\n",
        "sort | \\\n",
        "uniq -c | \\\n",
        "sort -nr | \\\n",
        "sed -e 's/^ *//;s/ /\\t/' | \\\n",
        "awk '{{print $2,$1}}' OFS=\"\\t\""
      ],
      "metadata": {
        "colab": {
          "base_uri": "https://localhost:8080/"
        },
        "id": "26TpGUnIAGVR",
        "outputId": "750071f0-ec77-4060-baff-1b3c72d8fd87"
      },
      "execution_count": null,
      "outputs": [
        {
          "output_type": "stream",
          "name": "stdout",
          "text": [
            "Statistics\n",
            "22\t47522\n",
            "MT\t172\n",
            "7\t8\n",
            "1\t6\n",
            "GL000212.1\t4\n",
            "2\t3\n",
            "3\t2\n",
            "9\t1\n",
            "8\t1\n",
            "4\t1\n"
          ]
        }
      ]
    },
    {
      "cell_type": "code",
      "source": [
        "SortedBAMFile = f\"{os.environ['OutputFolder']}/{os.environ['SampleID']}.sorted.bam\"\n",
        "!samtools sort {BAMFile} -o {SortedBAMFile}"
      ],
      "metadata": {
        "id": "UcizzuhKAm2r"
      },
      "execution_count": null,
      "outputs": []
    },
    {
      "cell_type": "code",
      "source": [
        "#!export SortedFile=${OutputFolder}/${SampleID}.sorted.bam\n",
        "!echo \"Top 5\"\n",
        "!samtools view ${OutputFolder}/${SampleID}.sorted.bam | head -n 5"
      ],
      "metadata": {
        "colab": {
          "base_uri": "https://localhost:8080/"
        },
        "id": "5-HVop1xAvWE",
        "outputId": "d4cf19b5-1291-47da-edef-77af7d11eb6a"
      },
      "execution_count": null,
      "outputs": [
        {
          "output_type": "stream",
          "name": "stdout",
          "text": [
            "Top 5\n",
            "HWI-1KL149:97:C6Y6VACXX:5:2114:15457:94133\t99\t1\t564711\t0\t100M\t=\t564760\t149\tCATACACCTCCTATGAAAAAACTTCCTACCACTCACCCTAGCATTACTTATATGACATGTCTCCATACCCATTACAATCTCCAGCATTCCCCCTCAAACC\tBC?BEHHGHHFGEEFCDCDCDFFBECFDFCFFFFFFCCFDFFFEDCFFDDEDEGDEFDGEGGGDGFEGDDGGFGHGHHIJIIIGGIHHJHJJJJJFC@DE\tNM:i:1\tMD:Z:55T44\tMC:Z:100M\tAS:i:95\tXS:i:95\tXA:Z:MT,+4161,100M,1;\n",
            "HWI-1KL149:97:C6Y6VACXX:5:1109:7156:14873\t163\t1\t564737\t0\t94M6S\t=\t564737\t93\tTACCACTCACCCTAGCATTACTTATATGACATGTCTCCATACCCATTACAATCTCCAGCATTCCCCCTCAAACCTAAGAAATATGTCTGATAAAGATCGG\tBA?DEGHFGFEEGDEEEDCCEECCDCEGDFFEGDFFFCFEDFCCFEDDEFEEFFFCFFFFEDFCCCCFGGEDF@HFFHEGGHGHJEJJHGHGHHIEBC?D\tNM:i:1\tMD:Z:29T64\tMC:Z:7S93M\tAS:i:89\tXS:i:89\tXA:Z:MT,+4187,94M6S,1;\n",
            "HWI-1KL149:97:C6Y6VACXX:5:1109:7156:14873\t83\t1\t564737\t0\t7S93M\t=\t564737\t-93\tCCGATCTTACCACTCACCCTAGCATTACTTATATGACATGTCTCCATACCCATTACAATCTCCAGCATTCCCCCTCAAACCTAAGAAATATGTCTGATAA\tD@CBEIHFDICC=>=CHHIGIGGFBEFHGFGFGHHEHBGGEFEDFFEDDDGDDDBGDEDFDCEFFGDDCEDDCECGDDDDEDCFEDDF?CGGEHHB=;@A\tNM:i:1\tMD:Z:29T63\tMC:Z:94M6S\tAS:i:88\tXS:i:88\tXA:Z:MT,-4187,7S93M,1;\n",
            "HWI-1KL149:97:C6Y6VACXX:5:2114:15457:94133\t147\t1\t564760\t0\t100M\t=\t564711\t-149\tATATGACATGTCTCCATACCCATTACAATCTCCAGCATTCCCCCTCAAACCTAAGAAATATGTCTGATAAAAGAGTTACTTTGATAGAGTAAATAATAGG\tBCCEIEDC=JEIGHGFECFEGFHGEI?GEGCFEHFG@CEDDCDEDGDEDDFDDFFDEEDEFDDFFFEDDDDFFFECCDECCEEDDEFGFEDEEEFDBABB\tNM:i:1\tMD:Z:6T93\tMC:Z:100M\tAS:i:95\tXS:i:95\tXA:Z:MT,-4210,100M,1;\n",
            "HWI-1KL149:97:C6Y6VACXX:5:1208:8361:8300\t99\t1\t100078584\t0\t50M50S\t=\t100078598\t50\tTGCACTCCAGCCTGGGTGACAGAGTGAGACTCCATCTTAAAAAAAAAAAATCAAGATAGAAAATAAATAAGATTTTCTTCTGTGTGGGATGGTACAGGCA\tBB@DEIHGGGGEGGCCBFDEFFDFCFDFDFFFCFEFFDDDDDDDDCDEED:<:B7@:=9?BEE;=FF<>C:><BGEDDGCDCBDC?HID>BBCCCDEAAC\tNM:i:0\tMD:Z:50\tMC:Z:36M64S\tAS:i:50\tXS:i:50\n"
          ]
        }
      ]
    },
    {
      "cell_type": "code",
      "source": [
        "!echo \"Statistics\"\n",
        "!samtools view ${OutputFolder}/${SampleID}.sorted.bam| \\\n",
        "cut -f 3 | \\\n",
        "sort | \\\n",
        "uniq -c | \\\n",
        "sort -nr | \\\n",
        "sed -e 's/^ *//;s/ /\\t/' | \\\n",
        "awk '{{print $2,$1}}' OFS=\"\\t\"| \\\n",
        "sort -n -k1,1"
      ],
      "metadata": {
        "colab": {
          "base_uri": "https://localhost:8080/"
        },
        "id": "vtwtcf6dBIWE",
        "outputId": "2447fd2d-36c7-4d6f-9806-c0f7d77a93ca"
      },
      "execution_count": null,
      "outputs": [
        {
          "output_type": "stream",
          "name": "stdout",
          "text": [
            "Statistics\n",
            "GL000212.1\t4\n",
            "MT\t172\n",
            "1\t6\n",
            "2\t3\n",
            "3\t2\n",
            "4\t1\n",
            "7\t8\n",
            "8\t1\n",
            "9\t1\n",
            "22\t47522\n"
          ]
        }
      ]
    },
    {
      "cell_type": "code",
      "source": [
        "# Tạo chỉ mục cho file BAM đã sắp xếp\n",
        "!samtools index {SortedBAMFile}"
      ],
      "metadata": {
        "id": "Jsb_znRBBhpU"
      },
      "execution_count": null,
      "outputs": []
    },
    {
      "cell_type": "code",
      "source": [
        "DepthFile = f\"{SortedBAMFile}.depth.txt\"\n",
        "# Tính toán độ sâu và ghi vào file\n",
        "!samtools depth {SortedBAMFile} > {DepthFile}"
      ],
      "metadata": {
        "id": "4Pm-bE9CCIsP"
      },
      "execution_count": null,
      "outputs": []
    },
    {
      "cell_type": "code",
      "source": [
        "# Đường dẫn đến các file đầu vào và đầu ra\n",
        "input_bam = f\"{os.environ['DATA']}/data_preprocessing/{os.environ['SampleID']}.sorted.bam\"\n",
        "output_bam = f\"{os.environ['DATA']}/data_preprocessing/{os.environ['SampleID']}.sorted.markedDup.bam\"\n",
        "metrics_file = f\"{os.environ['DATA']}/data_preprocessing/{os.environ['SampleID']}.markedDup_metrics.txt\"\n",
        "# Chạy Picard để đánh dấu duplicate reads\n",
        "!java -jar {os.environ['TOOLS']}/picard.jar MarkDuplicates \\\n",
        "I={input_bam} \\\n",
        "O={output_bam} \\\n",
        "M={metrics_file} \\\n",
        "VALIDATION_STRINGENCY=SILENT\n"
      ],
      "metadata": {
        "colab": {
          "base_uri": "https://localhost:8080/"
        },
        "id": "SxHgXjEsW4EG",
        "outputId": "d08c7126-9751-43ac-adc0-303eb2f4980e"
      },
      "execution_count": null,
      "outputs": [
        {
          "output_type": "stream",
          "name": "stdout",
          "text": [
            "INFO\t2024-10-19 13:33:04\tMarkDuplicates\t\n",
            "\n",
            "********** NOTE: Picard's command line syntax is changing.\n",
            "**********\n",
            "********** For more information, please see:\n",
            "********** \n",
            "https://github.com/broadinstitute/picard/wiki/Command-Line-Syntax-Transition-For-Users-(Pre-Transition)\n",
            "**********\n",
            "********** The command line looks like this in the new syntax:\n",
            "**********\n",
            "**********    MarkDuplicates -I /content/drive/MyDrive/GenomeAnalysis/data/data_preprocessing/child.sorted.bam -O /content/drive/MyDrive/GenomeAnalysis/data/data_preprocessing/child.sorted.markedDup.bam -M /content/drive/MyDrive/GenomeAnalysis/data/data_preprocessing/child.markedDup_metrics.txt -VALIDATION_STRINGENCY SILENT\n",
            "**********\n",
            "\n",
            "\n",
            "13:33:06.059 INFO  NativeLibraryLoader - Loading libgkl_compression.so from jar:file:/content/drive/MyDrive/GenomeAnalysis/tools/picard.jar!/com/intel/gkl/native/libgkl_compression.so\n",
            "[Sat Oct 19 13:33:06 UTC 2024] MarkDuplicates INPUT=[/content/drive/MyDrive/GenomeAnalysis/data/data_preprocessing/child.sorted.bam] OUTPUT=/content/drive/MyDrive/GenomeAnalysis/data/data_preprocessing/child.sorted.markedDup.bam METRICS_FILE=/content/drive/MyDrive/GenomeAnalysis/data/data_preprocessing/child.markedDup_metrics.txt VALIDATION_STRINGENCY=SILENT    MAX_SEQUENCES_FOR_DISK_READ_ENDS_MAP=50000 MAX_FILE_HANDLES_FOR_READ_ENDS_MAP=8000 SORTING_COLLECTION_SIZE_RATIO=0.25 TAG_DUPLICATE_SET_MEMBERS=false REMOVE_SEQUENCING_DUPLICATES=false TAGGING_POLICY=DontTag CLEAR_DT=true DUPLEX_UMI=false FLOW_MODE=false FLOW_QUALITY_SUM_STRATEGY=false USE_END_IN_UNPAIRED_READS=false USE_UNPAIRED_CLIPPED_END=false UNPAIRED_END_UNCERTAINTY=0 FLOW_SKIP_FIRST_N_FLOWS=0 FLOW_Q_IS_KNOWN_END=false FLOW_EFFECTIVE_QUALITY_THRESHOLD=15 ADD_PG_TAG_TO_READS=true REMOVE_DUPLICATES=false ASSUME_SORTED=false DUPLICATE_SCORING_STRATEGY=SUM_OF_BASE_QUALITIES PROGRAM_RECORD_ID=MarkDuplicates PROGRAM_GROUP_NAME=MarkDuplicates READ_NAME_REGEX=<optimized capture of last three ':' separated fields as numeric values> OPTICAL_DUPLICATE_PIXEL_DISTANCE=100 MAX_OPTICAL_DUPLICATE_SET_SIZE=300000 VERBOSITY=INFO QUIET=false COMPRESSION_LEVEL=5 MAX_RECORDS_IN_RAM=500000 CREATE_INDEX=false CREATE_MD5_FILE=false GA4GH_CLIENT_SECRETS=client_secrets.json USE_JDK_DEFLATER=false USE_JDK_INFLATER=false\n",
            "[Sat Oct 19 13:33:06 UTC 2024] Executing as root@9827cd57202b on Linux 6.1.85+ amd64; OpenJDK 64-Bit Server VM 11.0.24+8-post-Ubuntu-1ubuntu322.04; Deflater: Intel; Inflater: Intel; Provider GCS is not available; Picard version: 2.27.5\n",
            "INFO\t2024-10-19 13:33:06\tMarkDuplicates\tStart of doWork freeMemory: 21631440; totalMemory: 28311552; maxMemory: 3403677696\n",
            "INFO\t2024-10-19 13:33:06\tMarkDuplicates\tReading input file and constructing read end information.\n",
            "INFO\t2024-10-19 13:33:06\tMarkDuplicates\tWill retain up to 12332165 data points before spilling to disk.\n",
            "INFO\t2024-10-19 13:33:07\tMarkDuplicates\tRead 47720 records. 0 pairs never matched.\n",
            "INFO\t2024-10-19 13:33:07\tMarkDuplicates\tAfter buildSortedReadEndLists freeMemory: 79929976; totalMemory: 192937984; maxMemory: 3403677696\n",
            "INFO\t2024-10-19 13:33:07\tMarkDuplicates\tWill retain up to 106364928 duplicate indices before spilling to disk.\n",
            "INFO\t2024-10-19 13:33:08\tMarkDuplicates\tTraversing read pair information and detecting duplicates.\n",
            "INFO\t2024-10-19 13:33:09\tMarkDuplicates\tTraversing fragment information and detecting duplicates.\n",
            "INFO\t2024-10-19 13:33:09\tMarkDuplicates\tSorting list of duplicate records.\n",
            "INFO\t2024-10-19 13:33:09\tMarkDuplicates\tAfter generateDuplicateIndexes freeMemory: 574734864; totalMemory: 1433403392; maxMemory: 3403677696\n",
            "INFO\t2024-10-19 13:33:09\tMarkDuplicates\tMarking 2341 records as duplicates.\n",
            "INFO\t2024-10-19 13:33:09\tMarkDuplicates\tFound 36 optical duplicate clusters.\n",
            "INFO\t2024-10-19 13:33:09\tMarkDuplicates\tReads are assumed to be ordered by: coordinate\n",
            "INFO\t2024-10-19 13:33:10\tMarkDuplicates\tWriting complete. Closing input iterator.\n",
            "INFO\t2024-10-19 13:33:10\tMarkDuplicates\tDuplicate Index cleanup.\n",
            "INFO\t2024-10-19 13:33:10\tMarkDuplicates\tGetting Memory Stats.\n",
            "INFO\t2024-10-19 13:33:10\tMarkDuplicates\tBefore output close freeMemory: 23991072; totalMemory: 31457280; maxMemory: 3403677696\n",
            "INFO\t2024-10-19 13:33:10\tMarkDuplicates\tClosed outputs. Getting more Memory Stats.\n",
            "INFO\t2024-10-19 13:33:10\tMarkDuplicates\tAfter output close freeMemory: 24056856; totalMemory: 31457280; maxMemory: 3403677696\n",
            "[Sat Oct 19 13:33:11 UTC 2024] picard.sam.markduplicates.MarkDuplicates done. Elapsed time: 0.08 minutes.\n",
            "Runtime.totalMemory()=31457280\n"
          ]
        }
      ]
    },
    {
      "cell_type": "code",
      "source": [
        "MarkedDupFile = f\"{os.environ['DATA']}/data_preprocessing/{os.environ['SampleID']}.sorted.markedDup.bam\"\n",
        "\n",
        "# Thực hiện thống kê bằng samtools\n",
        "!samtools flagstat {MarkedDupFile} > {MarkedDupFile}.flagstat\n"
      ],
      "metadata": {
        "id": "Y5Op7CVykcxf"
      },
      "execution_count": null,
      "outputs": []
    },
    {
      "cell_type": "code",
      "source": [
        "!cat {MarkedDupFile}.flagstat"
      ],
      "metadata": {
        "colab": {
          "base_uri": "https://localhost:8080/"
        },
        "id": "AkiR-WQXkl5c",
        "outputId": "09e379d3-c707-4708-bcde-47f76608b4a5"
      },
      "execution_count": null,
      "outputs": [
        {
          "output_type": "stream",
          "name": "stdout",
          "text": [
            "47720 + 0 in total (QC-passed reads + QC-failed reads)\n",
            "47708 + 0 primary\n",
            "0 + 0 secondary\n",
            "12 + 0 supplementary\n",
            "2341 + 0 duplicates\n",
            "2341 + 0 primary duplicates\n",
            "47672 + 0 mapped (99.90% : N/A)\n",
            "47660 + 0 primary mapped (99.90% : N/A)\n",
            "47708 + 0 paired in sequencing\n",
            "23854 + 0 read1\n",
            "23854 + 0 read2\n",
            "47422 + 0 properly paired (99.40% : N/A)\n",
            "47612 + 0 with itself and mate mapped\n",
            "48 + 0 singletons (0.10% : N/A)\n",
            "0 + 0 with mate mapped to a different chr\n",
            "0 + 0 with mate mapped to a different chr (mapQ>=5)\n"
          ]
        }
      ]
    },
    {
      "cell_type": "code",
      "source": [
        "SortedFile = f\"{os.environ['DATA']}/data_preprocessing/{os.environ['SampleID']}.sorted.bam\"\n",
        "!samtools flagstat {SortedFile} > {SortedFile}.flagstat\n",
        "!cat {SortedFile}.flagstat"
      ],
      "metadata": {
        "colab": {
          "base_uri": "https://localhost:8080/"
        },
        "id": "0zNLYncYHMM8",
        "outputId": "909905b2-6ed3-4fa4-b1e8-aa521f72a92f"
      },
      "execution_count": null,
      "outputs": [
        {
          "output_type": "stream",
          "name": "stdout",
          "text": [
            "47720 + 0 in total (QC-passed reads + QC-failed reads)\n",
            "47708 + 0 primary\n",
            "0 + 0 secondary\n",
            "12 + 0 supplementary\n",
            "0 + 0 duplicates\n",
            "0 + 0 primary duplicates\n",
            "47672 + 0 mapped (99.90% : N/A)\n",
            "47660 + 0 primary mapped (99.90% : N/A)\n",
            "47708 + 0 paired in sequencing\n",
            "23854 + 0 read1\n",
            "23854 + 0 read2\n",
            "47422 + 0 properly paired (99.40% : N/A)\n",
            "47612 + 0 with itself and mate mapped\n",
            "48 + 0 singletons (0.10% : N/A)\n",
            "0 + 0 with mate mapped to a different chr\n",
            "0 + 0 with mate mapped to a different chr (mapQ>=5)\n"
          ]
        }
      ]
    },
    {
      "cell_type": "markdown",
      "source": [
        "# **ADD RG**"
      ],
      "metadata": {
        "id": "W2YHJfHPI-o8"
      }
    },
    {
      "cell_type": "code",
      "source": [
        "!java -jar {os.environ['TOOLS']}/picard.jar AddOrReplaceReadGroups \\\n",
        "I=${os.environ['DATA']}/data_preprocessing/${os.environ['SampleID']}.sorted.markedDup.bam \\\n",
        "O=${os.environ['DATA']}/data_preprocessing/${os.environ['SampleID']}.sorted.markedDup.addedRG.bam \\\n",
        "RGID=123 \\\n",
        "RGLB=Lib1 \\\n",
        "RGPL=Illumina \\\n",
        "RGPU=Unit1 \\\n",
        "RGSM=${os.environ['SampleID']}"
      ],
      "metadata": {
        "colab": {
          "base_uri": "https://localhost:8080/"
        },
        "id": "yRIhci4GHia0",
        "outputId": "96aff9ea-1f65-4fe3-8689-e9717addb8d5"
      },
      "execution_count": null,
      "outputs": [
        {
          "output_type": "stream",
          "name": "stdout",
          "text": [
            "INFO\t2024-10-19 14:29:45\tAddOrReplaceReadGroups\t\n",
            "\n",
            "********** NOTE: Picard's command line syntax is changing.\n",
            "**********\n",
            "********** For more information, please see:\n",
            "********** \n",
            "https://github.com/broadinstitute/picard/wiki/Command-Line-Syntax-Transition-For-Users-(Pre-Transition)\n",
            "**********\n",
            "********** The command line looks like this in the new syntax:\n",
            "**********\n",
            "**********    AddOrReplaceReadGroups -I $/content/drive/MyDrive/GenomeAnalysis/data/data_preprocessing/.sorted.markedDup.bam -O $/content/drive/MyDrive/GenomeAnalysis/data/data_preprocessing/.sorted.markedDup.addedRG.bam -RGID 123 -RGLB Lib1 -RGPL Illumina -RGPU Unit1 -RGSM \n",
            "**********\n",
            "\n",
            "\n",
            "14:29:46.875 WARN  LegacyCommandLineArgumentParser - Hidden arguments are always printed in LegacyCommandLineArgumentParser\n",
            "USAGE: AddOrReplaceReadGroups [options]\n",
            "\n",
            "Documentation: http://broadinstitute.github.io/picard/command-line-overview.html#AddOrReplaceReadGroups\n",
            "\n",
            "Assigns all the reads in a file to a single new read-group.\n",
            "\n",
            "This tool accepts INPUT BAM and SAM files or URLs from the Global Alliance for Genomics and Health (GA4GH)\n",
            "(http://ga4gh.org/#/documentation).\n",
            "\n",
            "Usage example:\n",
            "\n",
            "java -jar picard.jar AddOrReplaceReadGroups \\\n",
            "I=input.bam \\\n",
            "O=output.bam \\\n",
            "RGID=4 \\\n",
            "RGLB=lib1 \\\n",
            "RGPL=ILLUMINA \\\n",
            "RGPU=unit1 \\\n",
            "RGSM=20\n",
            "\n",
            "\n",
            "Caveats\n",
            "\n",
            "The value of the tags must adhere (according to the SAM-spec (https://samtools.github.io/hts-specs/SAMv1.pdf)) with the\n",
            "regex '^[ -~]+$'</code> (one or more characters from the ASCII range 32 through 126). In particular <Space> is the only\n",
            "non-printing character allowed.\n",
            "\n",
            "The program enables only the wholesale assignment of all the reads in the INPUT to a single read-group. If your file\n",
            "already has reads assigned to multiple read-groups, the original RG value will be lost. \n",
            "\n",
            "For more information about read-groups, see the GATK Dictionary entry.\n",
            "(https://www.broadinstitute.org/gatk/guide/article?id=6472)\n",
            "Version: 2.27.5\n",
            "\n",
            "\n",
            "Options:\n",
            "\n",
            "--help\n",
            "-h                            Displays options specific to this tool.\n",
            "\n",
            "--stdhelp\n",
            "-H                            Displays options specific to this tool AND options common to all Picard command line\n",
            "                              tools.\n",
            "\n",
            "--version                     Displays program version.\n",
            "\n",
            "INPUT=String\n",
            "I=String                      Input file (BAM or SAM or a GA4GH url).  Required. \n",
            "\n",
            "OUTPUT=File\n",
            "O=File                        Output file (SAM, BAM or CRAM).  Required. \n",
            "\n",
            "SORT_ORDER=SortOrder\n",
            "SO=SortOrder                  Optional sort order to output in. If not supplied OUTPUT is in the same order as INPUT. \n",
            "                              Default value: null. Possible values: {unsorted, queryname, coordinate, duplicate,\n",
            "                              unknown} \n",
            "\n",
            "RGID=String\n",
            "ID=String                     Read-Group ID  Default value: 1. This option can be set to 'null' to clear the default\n",
            "                              value. \n",
            "\n",
            "RGLB=String\n",
            "LB=String                     Read-Group library  Required. \n",
            "\n",
            "RGPL=String\n",
            "PL=String                     Read-Group platform (e.g. ILLUMINA, SOLID)  Required. \n",
            "\n",
            "RGPU=String\n",
            "PU=String                     Read-Group platform unit (eg. run barcode)  Required. \n",
            "\n",
            "RGSM=String\n",
            "SM=String                     Read-Group sample name  Required. \n",
            "\n",
            "RGCN=String\n",
            "CN=String                     Read-Group sequencing center name  Default value: null. \n",
            "\n",
            "RGDS=String\n",
            "DS=String                     Read-Group description  Default value: null. \n",
            "\n",
            "RGDT=Iso8601Date\n",
            "DT=Iso8601Date                Read-Group run date  Default value: null. \n",
            "\n",
            "RGKS=String\n",
            "KS=String                     Read-Group key sequence  Default value: null. \n",
            "\n",
            "RGFO=String\n",
            "FO=String                     Read-Group flow order  Default value: null. \n",
            "\n",
            "RGPI=Integer\n",
            "PI=Integer                    Read-Group predicted insert size  Default value: null. \n",
            "\n",
            "RGPG=String\n",
            "PG=String                     Read-Group program group  Default value: null. \n",
            "\n",
            "RGPM=String\n",
            "PM=String                     Read-Group platform model  Default value: null. \n",
            "\n",
            "TMP_DIR=File                  One or more directories with space available to be used by this program for temporary\n",
            "                              storage of working files  Default value: null. This option may be specified 0 or more\n",
            "                              times. \n",
            "\n",
            "VERBOSITY=LogLevel            Control verbosity of logging.  Default value: INFO. This option can be set to 'null' to\n",
            "                              clear the default value. Possible values: {ERROR, WARNING, INFO, DEBUG} \n",
            "\n",
            "QUIET=Boolean                 Whether to suppress job-summary info on System.err.  Default value: false. This option can\n",
            "                              be set to 'null' to clear the default value. Possible values: {true, false} \n",
            "\n",
            "VALIDATION_STRINGENCY=ValidationStringency\n",
            "                              Validation stringency for all SAM files read by this program.  Setting stringency to\n",
            "                              SILENT can improve performance when processing a BAM file in which variable-length data\n",
            "                              (read, qualities, tags) do not otherwise need to be decoded.  Default value: STRICT. This\n",
            "                              option can be set to 'null' to clear the default value. Possible values: {STRICT, LENIENT,\n",
            "                              SILENT} \n",
            "\n",
            "COMPRESSION_LEVEL=Integer     Compression level for all compressed files created (e.g. BAM and VCF).  Default value: 5.\n",
            "                              This option can be set to 'null' to clear the default value. \n",
            "\n",
            "MAX_RECORDS_IN_RAM=Integer    When writing files that need to be sorted, this will specify the number of records stored\n",
            "                              in RAM before spilling to disk. Increasing this number reduces the number of file handles\n",
            "                              needed to sort the file, and increases the amount of RAM needed.  Default value: 500000.\n",
            "                              This option can be set to 'null' to clear the default value. \n",
            "\n",
            "CREATE_INDEX=Boolean          Whether to create an index when writing VCF or coordinate sorted BAM output.  Default\n",
            "                              value: false. This option can be set to 'null' to clear the default value. Possible\n",
            "                              values: {true, false} \n",
            "\n",
            "CREATE_MD5_FILE=Boolean       Whether to create an MD5 digest for any BAM or FASTQ files created.    Default value:\n",
            "                              false. This option can be set to 'null' to clear the default value. Possible values:\n",
            "                              {true, false} \n",
            "\n",
            "REFERENCE_SEQUENCE=File\n",
            "R=File                        Reference sequence file.  Default value: null. \n",
            "\n",
            "GA4GH_CLIENT_SECRETS=String   Google Genomics API client_secrets.json file path.  Default value: client_secrets.json.\n",
            "                              This option can be set to 'null' to clear the default value. \n",
            "\n",
            "USE_JDK_DEFLATER=Boolean\n",
            "USE_JDK_DEFLATER=Boolean      Use the JDK Deflater instead of the Intel Deflater for writing compressed output  Default\n",
            "                              value: false. This option can be set to 'null' to clear the default value. Possible\n",
            "                              values: {true, false} \n",
            "\n",
            "USE_JDK_INFLATER=Boolean\n",
            "USE_JDK_INFLATER=Boolean      Use the JDK Inflater instead of the Intel Inflater for reading compressed input  Default\n",
            "                              value: false. This option can be set to 'null' to clear the default value. Possible\n",
            "                              values: {true, false} \n",
            "\n",
            "OPTIONS_FILE=File             File of OPTION_NAME=value pairs.  No positional parameters allowed.  Unlike command-line\n",
            "                              options, unrecognized options are ignored.  A single-valued option set in an options file\n",
            "                              may be overridden by a subsequent command-line option.  A line starting with '#' is\n",
            "                              considered a comment.  Required. \n",
            "\n",
            "The values of tags in a SAM header must adhere to the regular expression '^[ -~]+$',but the value provided for RGSM, '', doesn't.\n"
          ]
        }
      ]
    },
    {
      "cell_type": "code",
      "source": [
        "!export AddedRGFile=${OutputFolder}/${SampleID}.sorted.markedDup.addedRG.bam\n",
        "!samtools view -H ${AddedRGFile} | grep '^@RG'"
      ],
      "metadata": {
        "colab": {
          "base_uri": "https://localhost:8080/"
        },
        "id": "jaOZWa_8JuiF",
        "outputId": "a4cc13ab-3a88-49dc-bb36-209b0b9b49de"
      },
      "execution_count": null,
      "outputs": [
        {
          "output_type": "stream",
          "name": "stdout",
          "text": [
            "samtools view: No input provided or missing option argument.\n",
            "\n",
            "Usage: samtools view [options] <in.bam>|<in.sam>|<in.cram> [region ...]\n",
            "\n",
            "Output options:\n",
            "  -b, --bam                  Output BAM\n",
            "  -C, --cram                 Output CRAM (requires -T)\n",
            "  -1, --fast                 Use fast BAM compression (implies --bam)\n",
            "  -u, --uncompressed         Uncompressed BAM output (implies --bam)\n",
            "  -h, --with-header          Include header in SAM output\n",
            "  -H, --header-only          Print SAM header only (no alignments)\n",
            "      --no-header            Print SAM alignment records only [default]\n",
            "  -c, --count                Print only the count of matching records\n",
            "  -o, --output FILE          Write output to FILE [standard output]\n",
            "  -U, --unoutput FILE, --output-unselected FILE\n",
            "                             Output reads not selected by filters to FILE\n",
            "Input options:\n",
            "  -t, --fai-reference FILE   FILE listing reference names and lengths\n",
            "  -M, --use-index            Use index and multi-region iterator for regions\n",
            "      --region[s]-file FILE  Use index to include only reads overlapping FILE\n",
            "  -X, --customized-index     Expect extra index file argument after <in.bam>\n",
            "\n",
            "Filtering options (Only include in output reads that...):\n",
            "  -L, --target[s]-file FILE  ...overlap (BED) regions in FILE\n",
            "  -r, --read-group STR       ...are in read group STR\n",
            "  -R, --read-group-file FILE ...are in a read group listed in FILE\n",
            "  -N, --qname-file FILE      ...whose read name is listed in FILE\n",
            "  -d, --tag STR1[:STR2]      ...have a tag STR1 (with associated value STR2)\n",
            "  -D, --tag-file STR:FILE    ...have a tag STR whose value is listed in FILE\n",
            "  -q, --min-MQ INT           ...have mapping quality >= INT\n",
            "  -l, --library STR          ...are in library STR\n",
            "  -m, --min-qlen INT         ...cover >= INT query bases (as measured via CIGAR)\n",
            "  -e, --expr STR             ...match the filter expression STR\n",
            "  -f, --require-flags FLAG   ...have all of the FLAGs present\n",
            "  -F, --excl[ude]-flags FLAG ...have none of the FLAGs present\n",
            "  -G FLAG                    EXCLUDE reads with all of the FLAGs present\n",
            "      --subsample FLOAT      Keep only FLOAT fraction of templates/read pairs\n",
            "      --subsample-seed INT   Influence WHICH reads are kept in subsampling [0]\n",
            "  -s INT.FRAC                Same as --subsample 0.FRAC --subsample-seed INT\n",
            "\n",
            "Processing options:\n",
            "      --add-flags FLAG       Add FLAGs to reads\n",
            "      --remove-flags FLAG    Remove FLAGs from reads\n",
            "  -x, --remove-tag STR       Strip tag STR from reads (option may be repeated)\n",
            "  -B, --remove-B             Collapse the backward CIGAR operation\n",
            "\n",
            "General options:\n",
            "  -?, --help   Print long help, including note about region specification\n",
            "  -S           Ignored (input format is auto-detected)\n",
            "      --no-PG  Do not add a PG line\n",
            "      --input-fmt-option OPT[=VAL]\n",
            "               Specify a single input file format option in the form\n",
            "               of OPTION or OPTION=VALUE\n",
            "  -O, --output-fmt FORMAT[,OPT[=VAL]]...\n",
            "               Specify output format (SAM, BAM, CRAM)\n",
            "      --output-fmt-option OPT[=VAL]\n",
            "               Specify a single output file format option in the form\n",
            "               of OPTION or OPTION=VALUE\n",
            "  -T, --reference FILE\n",
            "               Reference sequence FASTA FILE [null]\n",
            "  -@, --threads INT\n",
            "               Number of additional threads to use [0]\n",
            "      --write-index\n",
            "               Automatically index the output files [off]\n",
            "      --verbosity INT\n",
            "               Set level of verbosity\n",
            "\n"
          ]
        }
      ]
    }
  ]
}